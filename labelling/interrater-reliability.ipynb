{
 "cells": [
  {
   "cell_type": "markdown",
   "metadata": {},
   "source": [
    "# Interrater Reliability Evaluation: Krippendorff's alpha\n",
    "### (Lasser et al., 2023)"
   ]
  },
  {
   "cell_type": "code",
   "execution_count": 1,
   "metadata": {},
   "outputs": [],
   "source": [
    "# specify path for directory with data under DATA_PATH!"
   ]
  },
  {
   "cell_type": "code",
   "execution_count": 2,
   "metadata": {
    "id": "fQDnSxAR0mT6"
   },
   "outputs": [],
   "source": [
    "import pandas as pd\n",
    "import numpy as np\n",
    "import simpledorff"
   ]
  },
  {
   "cell_type": "code",
   "execution_count": 3,
   "metadata": {},
   "outputs": [],
   "source": [
    "import warnings\n",
    "warnings.filterwarnings('ignore')"
   ]
  },
  {
   "cell_type": "code",
   "execution_count": 4,
   "metadata": {},
   "outputs": [],
   "source": [
    "# define global variables\n",
    "DATA_PATH = '../../../data/labelled_samples'\n",
    "CATEGORIES = ['[STRATEGY]', '[GROUP]', '[GOAL]', '[HATE]', '[TARGET]']"
   ]
  },
  {
   "cell_type": "markdown",
   "metadata": {},
   "source": [
    "## Define evaluation functions"
   ]
  },
  {
   "cell_type": "code",
   "execution_count": 5,
   "metadata": {},
   "outputs": [],
   "source": [
    "def load_data(file, annotator=''):\n",
    "    # loads the data and adds column annotator_id\n",
    "    data = pd.read_csv(DATA_PATH + file, sep=';')\n",
    "    data = data.replace({np.NaN: 'NA'})\n",
    "    data['annotator_id'] = [annotator] * len(data)\n",
    "    return data"
   ]
  },
  {
   "cell_type": "code",
   "execution_count": 6,
   "metadata": {},
   "outputs": [],
   "source": [
    "def krips_alpha(dfs=[], category='[STRATEGY]'):\n",
    "    # calculates Krippendorff's alpha for all dataframes in dfs and category\n",
    "    \n",
    "    alpha_df = dfs[0]\n",
    "    for i in range(len(dfs) - 1):\n",
    "        alpha_df = pd.concat([alpha_df, dfs[i+1]])\n",
    "        dups = alpha_df.duplicated(subset=['text'], keep=False)\n",
    "        alpha_df = alpha_df[dups.values]\n",
    "\n",
    "    if len(alpha_df) not in [100, 150, 1452, 1792, 3984]:\n",
    "        # 100: two-way, 150: three-way, 1452: batch 1 STRATEGY, 1792: batch 1 GROUP GOAL HATE TARGET, 3984: batch 2\n",
    "        raise AssertionError('Number of entries in concatenated dataframe not one of [100, 150, 1452, 1792, 3984].')\n",
    "    try: \n",
    "        alpha = simpledorff.calculate_krippendorffs_alpha_for_df(alpha_df,\n",
    "                                                                 experiment_col='text',\n",
    "                                                                 annotator_col='annotator_id',\n",
    "                                                                 class_col=category)\n",
    "        return alpha\n",
    "    except ZeroDivisionError:\n",
    "        return np.nan"
   ]
  },
  {
   "cell_type": "code",
   "execution_count": 7,
   "metadata": {},
   "outputs": [],
   "source": [
    "def retrieve_all_alphas(dfs=[], names=['LT', 'AS'], batch=''):\n",
    "    # retrieves Krippendorff's alpha for all categories calling krips_alpha() and prints results\n",
    "    print(f\"BATCH {batch} // Krippendorff's alpha {'-'.join(names)}:\")\n",
    "    for category in CATEGORIES:\n",
    "        print(category, '{:.2f}'.format(krips_alpha(dfs, category)))\n",
    "    print('\\n')"
   ]
  },
  {
   "cell_type": "markdown",
   "metadata": {},
   "source": [
    "## Batch 1 // Development batch"
   ]
  },
  {
   "cell_type": "code",
   "execution_count": 8,
   "metadata": {},
   "outputs": [],
   "source": [
    "data_LT = load_data('batch_1_LT.csv', 'LT')\n",
    "data_AS = load_data('batch_1_AS.csv', 'AS')"
   ]
  },
  {
   "cell_type": "code",
   "execution_count": 9,
   "metadata": {},
   "outputs": [
    {
     "name": "stdout",
     "output_type": "stream",
     "text": [
      "BATCH 1 // Krippendorff's alpha for STRATEGY:\n",
      "0.41\n"
     ]
    }
   ],
   "source": [
    "# exclude first 270 Tweets for STRATEGY & batch 1 (because labeled together)\n",
    "data_LT_STRATEGY = data_LT[270:]\n",
    "data_LT_STRATEGY.drop_duplicates(subset='text', keep='first', inplace=True)\n",
    "data_AS_STRATEGY = data_AS[270:]\n",
    "data_AS_STRATEGY.drop_duplicates(subset='text', keep='first', inplace=True)\n",
    "\n",
    "print(\"BATCH 1 // Krippendorff's alpha for STRATEGY:\")\n",
    "print('{:.2f}'.format(krips_alpha([data_LT_STRATEGY, data_AS_STRATEGY])))"
   ]
  },
  {
   "cell_type": "code",
   "execution_count": 10,
   "metadata": {},
   "outputs": [
    {
     "name": "stdout",
     "output_type": "stream",
     "text": [
      "BATCH 1 // Krippendorff's alpha LT-AS:\n",
      "[GROUP] 0.50\n",
      "[GOAL] 0.47\n",
      "[HATE] 0.52\n",
      "[TARGET] 0.53\n",
      "\n",
      "\n"
     ]
    }
   ],
   "source": [
    "# exclude every 10th Tweet for GROUP, GOAL, HATE, TARGET & batch 1 (because labeled together)\n",
    "data_LT_GROUP_GOAL_HATE = data_LT[data_LT.index % 10 != 0]\n",
    "data_LT_GROUP_GOAL_HATE.drop_duplicates(subset='text', keep='first', inplace=True)\n",
    "data_AS_GROUP_GOAL_HATE = data_AS[data_AS.index % 10 != 0]\n",
    "data_AS_GROUP_GOAL_HATE.drop_duplicates(subset='text', keep='first', inplace=True)\n",
    "\n",
    "CATEGORIES.pop(0)\n",
    "retrieve_all_alphas([data_LT_GROUP_GOAL_HATE, data_AS_GROUP_GOAL_HATE], batch=1)\n",
    "CATEGORIES = ['[STRATEGY]'] + CATEGORIES"
   ]
  },
  {
   "cell_type": "markdown",
   "metadata": {},
   "source": [
    "## Batch 2 // Validation batch"
   ]
  },
  {
   "cell_type": "code",
   "execution_count": 11,
   "metadata": {},
   "outputs": [],
   "source": [
    "data_LT = load_data('batch_2_LT.csv', 'LT')\n",
    "data_LT.drop_duplicates(subset='text', keep='first', inplace=True)\n",
    "data_AH = load_data('batch_2_AH.csv', 'AH')\n",
    "data_AH.drop_duplicates(subset='text', keep='first', inplace=True)\n",
    "data_AS = load_data('batch_2_AS.csv', 'AS')\n",
    "data_AS.drop_duplicates(subset='text', keep='first', inplace=True)\n",
    "data_EM = load_data('batch_2_EM.csv', 'EM')\n",
    "data_EM.drop_duplicates(subset='text', keep='first', inplace=True)"
   ]
  },
  {
   "cell_type": "code",
   "execution_count": 12,
   "metadata": {},
   "outputs": [
    {
     "name": "stdout",
     "output_type": "stream",
     "text": [
      "BATCH 2 // Krippendorff's alpha LT-AH-AS-EM:\n",
      "[STRATEGY] 0.45\n",
      "[GROUP] 0.42\n",
      "[GOAL] 0.45\n",
      "[HATE] 0.50\n",
      "[TARGET] 0.58\n",
      "\n",
      "\n"
     ]
    }
   ],
   "source": [
    "retrieve_all_alphas([data_LT, data_AH, data_AS, data_EM], names=['LT', 'AH', 'AS', 'EM'], batch=2)"
   ]
  },
  {
   "cell_type": "markdown",
   "metadata": {},
   "source": [
    "## Batch 3 (including additional annotator conference with re-evaluation)"
   ]
  },
  {
   "cell_type": "code",
   "execution_count": 13,
   "metadata": {},
   "outputs": [],
   "source": [
    "data_LT = load_data('batch_3_LT.csv', 'LT')\n",
    "data_LT_AH = load_data('batch_3_LT_AH.csv', 'AH')\n",
    "\n",
    "data_AH = load_data('batch_3_AH.csv', 'AH')\n",
    "data_AH_LT = load_data('batch_3_AH_LT.csv', 'LT')\n",
    "data_AH_LT_AS = load_data('batch_3_AH_LT_AS.csv', 'AS')\n",
    "\n",
    "data_AS = load_data('batch_3_AS.csv', 'AS')\n",
    "data_AS_AH = load_data('batch_3_AS_AH.csv', 'AH')\n",
    "data_AS_AH_LT = load_data('batch_3_AS_AH_LT.csv', 'LT')"
   ]
  },
  {
   "cell_type": "code",
   "execution_count": 14,
   "metadata": {},
   "outputs": [
    {
     "name": "stdout",
     "output_type": "stream",
     "text": [
      "Based on batch LT\n",
      "\n",
      "* \n",
      "BATCH 3 // Krippendorff's alpha LT-AH:\n",
      "[STRATEGY] 0.42\n",
      "[GROUP] 0.39\n",
      "[GOAL] 0.29\n",
      "[HATE] 0.61\n",
      "[TARGET] 0.65\n",
      "\n",
      "\n",
      "Based on batch AH\n",
      "\n",
      "* \n",
      "BATCH 3 // Krippendorff's alpha AH-LT:\n",
      "[STRATEGY] 0.48\n",
      "[GROUP] 0.36\n",
      "[GOAL] 0.40\n",
      "[HATE] 0.45\n",
      "[TARGET] 0.62\n",
      "\n",
      "\n",
      "BATCH 3 // Krippendorff's alpha AH-AS:\n",
      "[STRATEGY] 0.53\n",
      "[GROUP] 0.30\n",
      "[GOAL] 0.38\n",
      "[HATE] 0.24\n",
      "[TARGET] 0.41\n",
      "\n",
      "\n",
      "BATCH 3 // Krippendorff's alpha AS-LT:\n",
      "[STRATEGY] 0.40\n",
      "[GROUP] 0.22\n",
      "[GOAL] 0.39\n",
      "[HATE] 0.00\n",
      "[TARGET] 0.14\n",
      "\n",
      "\n",
      "Based on batch AS\n",
      "\n",
      "* \n",
      "BATCH 3 // Krippendorff's alpha AS-AH:\n",
      "[STRATEGY] 0.16\n",
      "[GROUP] 0.25\n",
      "[GOAL] 0.31\n",
      "[HATE] 0.12\n",
      "[TARGET] 0.28\n",
      "\n",
      "\n",
      "BATCH 3 // Krippendorff's alpha AS-LT:\n",
      "[STRATEGY] 0.23\n",
      "[GROUP] 0.22\n",
      "[GOAL] 0.37\n",
      "[HATE] 0.14\n",
      "[TARGET] -0.03\n",
      "\n",
      "\n",
      "BATCH 3 // Krippendorff's alpha AH-LT:\n",
      "[STRATEGY] 0.24\n",
      "[GROUP] 0.39\n",
      "[GOAL] 0.32\n",
      "[HATE] 0.18\n",
      "[TARGET] 0.25\n",
      "\n",
      "\n",
      "* indicates original cross-labeling analyses before annotator conference\n"
     ]
    }
   ],
   "source": [
    "print('Based on batch LT\\n')\n",
    "print('* ')\n",
    "retrieve_all_alphas(dfs=[data_LT, data_LT_AH], names=['LT', 'AH'], batch=3)\n",
    "\n",
    "print('Based on batch AH\\n')\n",
    "print('* ')\n",
    "retrieve_all_alphas(dfs=[data_AH, data_AH_LT], names=['AH', 'LT'], batch=3)\n",
    "retrieve_all_alphas(dfs=[data_AH, data_AH_LT_AS], names=['AH', 'AS'], batch=3)\n",
    "retrieve_all_alphas(dfs=[data_AH_LT, data_AH_LT_AS], names=['AS', 'LT'], batch=3)\n",
    "\n",
    "print('Based on batch AS\\n')\n",
    "print('* ')\n",
    "retrieve_all_alphas(dfs=[data_AS, data_AS_AH], names=['AS', 'AH'], batch=3)\n",
    "retrieve_all_alphas(dfs=[data_AS, data_AS_AH_LT], names=['AS', 'LT'], batch=3)\n",
    "retrieve_all_alphas(dfs=[data_AS_AH, data_AS_AH_LT], names=['AH', 'LT'], batch=3)\n",
    "\n",
    "print('* indicates original cross-labeling analyses before annotator conference')"
   ]
  },
  {
   "cell_type": "code",
   "execution_count": 15,
   "metadata": {},
   "outputs": [
    {
     "name": "stdout",
     "output_type": "stream",
     "text": [
      "Batch 3 AH three way\n",
      "BATCH 3 // Krippendorff's alpha :\n",
      "[STRATEGY] 0.47\n",
      "[GROUP] 0.29\n",
      "[GOAL] 0.39\n",
      "[HATE] 0.24\n",
      "[TARGET] 0.40\n",
      "\n",
      "\n",
      "Batch 3 AS three way\n",
      "BATCH 3 // Krippendorff's alpha :\n",
      "[STRATEGY] 0.21\n",
      "[GROUP] 0.29\n",
      "[GOAL] 0.33\n",
      "[HATE] 0.16\n",
      "[TARGET] 0.20\n",
      "\n",
      "\n"
     ]
    }
   ],
   "source": [
    "print('Batch 3 AH three way')\n",
    "retrieve_all_alphas([data_AH, data_AH_LT, data_AH_LT_AS], names=[], batch=3)\n",
    "print('Batch 3 AS three way')\n",
    "retrieve_all_alphas([data_AS, data_AS_AH, data_AS_AH_LT], names=[], batch=3)"
   ]
  },
  {
   "cell_type": "markdown",
   "metadata": {},
   "source": [
    "## Batch 4 (including additional annotator conference with re-evaluation)"
   ]
  },
  {
   "cell_type": "code",
   "execution_count": 16,
   "metadata": {},
   "outputs": [],
   "source": [
    "data_LT = load_data('batch_4_LT.csv', 'LT')\n",
    "data_LT_AH = load_data('batch_4_LT_AH.csv', 'AH')\n",
    "data_LT_AH_AS = load_data('batch_4_LT_AH_AS.csv', 'AS')\n",
    "\n",
    "data_AH = load_data('batch_4_AH.csv', 'AH')\n",
    "data_AH_AS = load_data('batch_4_AH_AS.csv', 'AS')\n",
    "data_AH_AS_LT = load_data('batch_4_AH_AS_LT.csv', 'LT')\n",
    "\n",
    "data_AS = load_data('batch_4_AS.csv', 'AS')\n",
    "data_AS_AH = load_data('batch_4_AS_AH.csv', 'AH')\n",
    "data_AS_AH_LT = load_data('batch_4_AS_AH_LT.csv', 'LT')\n",
    "\n",
    "data_AS_AH_AS = load_data('batch_4_AS_AH_AS.csv', 'AS')"
   ]
  },
  {
   "cell_type": "code",
   "execution_count": 17,
   "metadata": {},
   "outputs": [
    {
     "name": "stdout",
     "output_type": "stream",
     "text": [
      "Based on batch LT\n",
      "\n",
      "* \n",
      "BATCH 4 // Krippendorff's alpha LT-AH:\n",
      "[STRATEGY] 0.43\n",
      "[GROUP] 0.43\n",
      "[GOAL] 0.43\n",
      "[HATE] 0.53\n",
      "[TARGET] 0.56\n",
      "\n",
      "\n",
      "BATCH 4 // Krippendorff's alpha LT-AS:\n",
      "[STRATEGY] 0.42\n",
      "[GROUP] 0.28\n",
      "[GOAL] 0.29\n",
      "[HATE] 0.57\n",
      "[TARGET] 0.61\n",
      "\n",
      "\n",
      "BATCH 4 // Krippendorff's alpha AH-AS:\n",
      "[STRATEGY] 0.43\n",
      "[GROUP] 0.16\n",
      "[GOAL] 0.41\n",
      "[HATE] 0.46\n",
      "[TARGET] 0.56\n",
      "\n",
      "\n",
      "Based on batch AH\n",
      "\n",
      "* \n",
      "BATCH 4 // Krippendorff's alpha AH-AS:\n",
      "[STRATEGY] 0.25\n",
      "[GROUP] 0.00\n",
      "[GOAL] 0.07\n",
      "[HATE] 0.31\n",
      "[TARGET] 0.43\n",
      "\n",
      "\n",
      "BATCH 4 // Krippendorff's alpha AH-LT:\n",
      "[STRATEGY] 0.37\n",
      "[GROUP] 0.28\n",
      "[GOAL] 0.23\n",
      "[HATE] 0.58\n",
      "[TARGET] 0.62\n",
      "\n",
      "\n",
      "BATCH 4 // Krippendorff's alpha AS-LT:\n",
      "[STRATEGY] 0.24\n",
      "[GROUP] 0.18\n",
      "[GOAL] 0.14\n",
      "[HATE] 0.41\n",
      "[TARGET] 0.47\n",
      "\n",
      "\n",
      "Based on batch AS\n",
      "\n",
      "OLD LABELS AS\n",
      "\n",
      "* \n",
      "BATCH 4 // Krippendorff's alpha AS-AH:\n",
      "[STRATEGY] 0.24\n",
      "[GROUP] 0.51\n",
      "[GOAL] 0.44\n",
      "[HATE] 0.18\n",
      "[TARGET] 0.29\n",
      "\n",
      "\n",
      "BATCH 4 // Krippendorff's alpha AS-LT:\n",
      "[STRATEGY] 0.33\n",
      "[GROUP] 0.40\n",
      "[GOAL] 0.44\n",
      "[HATE] 0.33\n",
      "[TARGET] 0.41\n",
      "\n",
      "\n",
      "BATCH 4 // Krippendorff's alpha AH-LT:\n",
      "[STRATEGY] 0.36\n",
      "[GROUP] 0.45\n",
      "[GOAL] 0.43\n",
      "[HATE] 0.57\n",
      "[TARGET] 0.61\n",
      "\n",
      "\n",
      "NEW LABELS AS\n",
      "\n",
      "* \n",
      "BATCH 4 // Krippendorff's alpha AS-AH:\n",
      "[STRATEGY] 0.30\n",
      "[GROUP] 0.46\n",
      "[GOAL] 0.50\n",
      "[HATE] 0.51\n",
      "[TARGET] 0.60\n",
      "\n",
      "\n",
      "BATCH 4 // Krippendorff's alpha AS-LT:\n",
      "[STRATEGY] 0.45\n",
      "[GROUP] 0.39\n",
      "[GOAL] 0.46\n",
      "[HATE] 0.63\n",
      "[TARGET] 0.72\n",
      "\n",
      "\n",
      "* indicates original cross-labeling analyses before annotator conference\n"
     ]
    }
   ],
   "source": [
    "print('Based on batch LT\\n')\n",
    "print('* ')\n",
    "retrieve_all_alphas(dfs=[data_LT, data_LT_AH], names=['LT', 'AH'], batch=4)\n",
    "retrieve_all_alphas(dfs=[data_LT, data_LT_AH_AS], names=['LT', 'AS'], batch=4)\n",
    "retrieve_all_alphas(dfs=[data_LT_AH, data_LT_AH_AS], names=['AH', 'AS'], batch=4)\n",
    "\n",
    "print('Based on batch AH\\n')\n",
    "print('* ')\n",
    "retrieve_all_alphas(dfs=[data_AH, data_AH_AS], names=['AH', 'AS'], batch=4)\n",
    "retrieve_all_alphas(dfs=[data_AH, data_AH_AS_LT], names=['AH', 'LT'], batch=4)\n",
    "retrieve_all_alphas(dfs=[data_AH_AS, data_AH_AS_LT], names=['AS', 'LT'], batch=4)\n",
    "\n",
    "print('Based on batch AS\\n')\n",
    "print('OLD LABELS AS\\n')\n",
    "print('* ')\n",
    "retrieve_all_alphas(dfs=[data_AS, data_AS_AH], names=['AS', 'AH'], batch=4)\n",
    "retrieve_all_alphas(dfs=[data_AS, data_AS_AH_LT], names=['AS', 'LT'], batch=4)\n",
    "retrieve_all_alphas(dfs=[data_AS_AH, data_AS_AH_LT], names=['AH', 'LT'], batch=4)\n",
    "\n",
    "print('NEW LABELS AS\\n')\n",
    "print('* ')\n",
    "retrieve_all_alphas(dfs=[data_AS_AH_AS, data_AS_AH], names=['AS', 'AH'], batch=4)\n",
    "retrieve_all_alphas(dfs=[data_AS_AH_AS, data_AS_AH_LT], names=['AS', 'LT'], batch=4)\n",
    "\n",
    "print('* indicates original cross-labeling analyses before annotator conference')"
   ]
  },
  {
   "cell_type": "code",
   "execution_count": 18,
   "metadata": {},
   "outputs": [
    {
     "name": "stdout",
     "output_type": "stream",
     "text": [
      "Batch 4 LT three way\n",
      "BATCH 3 // Krippendorff's alpha :\n",
      "[STRATEGY] 0.43\n",
      "[GROUP] 0.29\n",
      "[GOAL] 0.38\n",
      "[HATE] 0.52\n",
      "[TARGET] 0.58\n",
      "\n",
      "\n",
      "Batch 4 AH three way\n",
      "BATCH 3 // Krippendorff's alpha :\n",
      "[STRATEGY] 0.29\n",
      "[GROUP] 0.15\n",
      "[GOAL] 0.15\n",
      "[HATE] 0.44\n",
      "[TARGET] 0.51\n",
      "\n",
      "\n",
      "Batch 4 AS three way (old labels AS)\n",
      "BATCH 3 // Krippendorff's alpha :\n",
      "[STRATEGY] 0.31\n",
      "[GROUP] 0.45\n",
      "[GOAL] 0.44\n",
      "[HATE] 0.37\n",
      "[TARGET] 0.45\n",
      "\n",
      "\n",
      "Batch 4 AS three way (new labels AS)\n",
      "BATCH 3 // Krippendorff's alpha :\n",
      "[STRATEGY] 0.37\n",
      "[GROUP] 0.43\n",
      "[GOAL] 0.47\n",
      "[HATE] 0.57\n",
      "[TARGET] 0.64\n",
      "\n",
      "\n"
     ]
    }
   ],
   "source": [
    "print('Batch 4 LT three way')\n",
    "retrieve_all_alphas([data_LT, data_LT_AH, data_LT_AH_AS], names=[], batch=3)\n",
    "print('Batch 4 AH three way')\n",
    "retrieve_all_alphas([data_AH, data_AH_AS, data_AH_AS_LT], names=[], batch=3)\n",
    "print('Batch 4 AS three way (old labels AS)')\n",
    "retrieve_all_alphas([data_AS, data_AS_AH, data_AS_AH_LT], names=[], batch=3)\n",
    "print('Batch 4 AS three way (new labels AS)')\n",
    "retrieve_all_alphas([data_AS_AH_AS, data_AS_AH, data_AS_AH_LT], names=[], batch=3)"
   ]
  },
  {
   "cell_type": "markdown",
   "metadata": {},
   "source": [
    "## Batch 5"
   ]
  },
  {
   "cell_type": "code",
   "execution_count": 19,
   "metadata": {},
   "outputs": [],
   "source": [
    "data_LT = load_data('batch_5_LT.csv', 'LT')\n",
    "data_LT_AH = load_data('batch_5_LT_AH.csv', 'AH')\n",
    "\n",
    "data_AH = load_data('batch_5_AH.csv', 'AH')\n",
    "data_AH_LT = load_data('batch_5_AH_LT.csv', 'LT')\n",
    "\n",
    "data_AS = load_data('batch_5_AS.csv', 'AS')\n",
    "data_AS_AH = load_data('batch_5_AS_AH.csv', 'AH')"
   ]
  },
  {
   "cell_type": "code",
   "execution_count": 20,
   "metadata": {},
   "outputs": [
    {
     "name": "stdout",
     "output_type": "stream",
     "text": [
      "BATCH 5 // Krippendorff's alpha LT-AH:\n",
      "[STRATEGY] 0.53\n",
      "[GROUP] 0.31\n",
      "[GOAL] 0.24\n",
      "[HATE] 0.47\n",
      "[TARGET] 0.60\n",
      "\n",
      "\n",
      "BATCH 5 // Krippendorff's alpha AH-LT:\n",
      "[STRATEGY] 0.39\n",
      "[GROUP] 0.35\n",
      "[GOAL] 0.30\n",
      "[HATE] 0.27\n",
      "[TARGET] 0.41\n",
      "\n",
      "\n",
      "BATCH 5 // Krippendorff's alpha AS-AH:\n",
      "[STRATEGY] 0.58\n",
      "[GROUP] 0.18\n",
      "[GOAL] 0.36\n",
      "[HATE] 0.11\n",
      "[TARGET] 0.28\n",
      "\n",
      "\n"
     ]
    }
   ],
   "source": [
    "retrieve_all_alphas(dfs=[data_LT, data_LT_AH], names=['LT', 'AH'], batch=5)\n",
    "retrieve_all_alphas(dfs=[data_AH, data_AH_LT], names=['AH', 'LT'], batch=5)\n",
    "retrieve_all_alphas(dfs=[data_AS, data_AS_AH], names=['AS', 'AH'], batch=5)"
   ]
  },
  {
   "cell_type": "markdown",
   "metadata": {},
   "source": [
    "## Batch 6"
   ]
  },
  {
   "cell_type": "code",
   "execution_count": 21,
   "metadata": {},
   "outputs": [],
   "source": [
    "data_LT = load_data('batch_6_LT.csv', 'LT')\n",
    "data_LT_AH = load_data('batch_6_LT_AH.csv', 'AH')\n",
    "\n",
    "data_AH = load_data('batch_6_AH.csv', 'AH')\n",
    "data_AH_LT = load_data('batch_6_AH_LT.csv', 'LT')"
   ]
  },
  {
   "cell_type": "code",
   "execution_count": 22,
   "metadata": {},
   "outputs": [],
   "source": [
    "# batch_6_AS contains 385 Tweets!\n",
    "# Krippendorff's alpha calculated based on 35 overlapping Tweets\n",
    "data_AS = load_data('batch_6_AS*.csv', 'AS')\n",
    "data_AS.drop_duplicates(keep='first', inplace=True)\n",
    "data_AS_AH = load_data('batch_6_AS_AH*.csv', 'AH')"
   ]
  },
  {
   "cell_type": "code",
   "execution_count": 23,
   "metadata": {},
   "outputs": [
    {
     "name": "stdout",
     "output_type": "stream",
     "text": [
      "BATCH 6 // Krippendorff's alpha LT-AH:\n",
      "[STRATEGY] 0.26\n",
      "[GROUP] 0.39\n",
      "[GOAL] 0.17\n",
      "[HATE] 0.43\n",
      "[TARGET] 0.63\n",
      "\n",
      "\n",
      "BATCH 6 // Krippendorff's alpha AH-LT:\n",
      "[STRATEGY] 0.15\n",
      "[GROUP] 0.29\n",
      "[GOAL] 0.10\n",
      "[HATE] 0.35\n",
      "[TARGET] 0.35\n",
      "\n",
      "\n"
     ]
    }
   ],
   "source": [
    "retrieve_all_alphas(dfs=[data_LT, data_LT_AH], names=['LT', 'AH'], batch=6)\n",
    "retrieve_all_alphas(dfs=[data_AH, data_AH_LT], names=['AH', 'LT'], batch=6)"
   ]
  },
  {
   "cell_type": "code",
   "execution_count": 24,
   "metadata": {},
   "outputs": [
    {
     "name": "stdout",
     "output_type": "stream",
     "text": [
      "BATCH 6 // Krippendorff's Alpha AS-AH:\n",
      "[STRATEGY] 0.35\n",
      "[GROUP] 0.30\n",
      "[GOAL] 0.23\n",
      "[HATE] 0.34\n",
      "[TARGET] 0.40\n"
     ]
    }
   ],
   "source": [
    "alpha_df = pd.concat([data_AS, data_AS_AH])\n",
    "\n",
    "dups = alpha_df.duplicated(subset=['text'], keep=False)\n",
    "alpha_df = alpha_df[dups.values]\n",
    "\n",
    "print(\"BATCH 6 // Krippendorff's Alpha AS-AH:\")\n",
    "for cat in CATEGORIES:\n",
    "    alpha = simpledorff.calculate_krippendorffs_alpha_for_df(alpha_df,\n",
    "                                                             experiment_col='text',\n",
    "                                                             annotator_col='annotator_id',\n",
    "                                                             class_col=cat)\n",
    "    print(cat, '{:.2f}'.format(alpha))"
   ]
  },
  {
   "cell_type": "markdown",
   "metadata": {},
   "source": [
    "## Batch 7"
   ]
  },
  {
   "cell_type": "code",
   "execution_count": 25,
   "metadata": {},
   "outputs": [],
   "source": [
    "data_LTa = load_data('batch_7a_LT.csv', 'LT')\n",
    "data_LTa_AH = load_data('batch_7a_LT_AH.csv', 'AH')\n",
    "\n",
    "data_LTb = load_data('batch_7b_LT.csv', 'LT')\n",
    "data_LTb_AH = load_data('batch_7b_LT_AH.csv', 'AH')"
   ]
  },
  {
   "cell_type": "code",
   "execution_count": 26,
   "metadata": {},
   "outputs": [
    {
     "name": "stdout",
     "output_type": "stream",
     "text": [
      "BATCH 7 // Krippendorff's alpha LT-AH:\n",
      "[STRATEGY] 0.31\n",
      "[GROUP] 0.20\n",
      "[GOAL] 0.12\n",
      "[HATE] 0.19\n",
      "[TARGET] 0.34\n",
      "\n",
      "\n",
      "BATCH 7 // Krippendorff's alpha LT-AH:\n",
      "[STRATEGY] 0.28\n",
      "[GROUP] 0.33\n",
      "[GOAL] 0.24\n",
      "[HATE] 0.25\n",
      "[TARGET] 0.52\n",
      "\n",
      "\n"
     ]
    }
   ],
   "source": [
    "retrieve_all_alphas(dfs=[data_LTa, data_LTa_AH], names=['LT', 'AH'], batch=7)\n",
    "retrieve_all_alphas(dfs=[data_LTb, data_LTb_AH], names=['LT', 'AH'], batch=7)"
   ]
  },
  {
   "cell_type": "markdown",
   "metadata": {},
   "source": [
    "## Batch 8"
   ]
  },
  {
   "cell_type": "code",
   "execution_count": 27,
   "metadata": {},
   "outputs": [],
   "source": [
    "data_LT = load_data('batch_8_LT.csv', 'LT')\n",
    "data_LT_EM = load_data('batch_8_LT_EM.csv', 'EM')\n",
    "\n",
    "data_EM = load_data('batch_8_EM.csv', 'EM')\n",
    "data_EM_LT = load_data('batch_8_EM_LT.csv', 'LT')"
   ]
  },
  {
   "cell_type": "code",
   "execution_count": 28,
   "metadata": {},
   "outputs": [
    {
     "name": "stdout",
     "output_type": "stream",
     "text": [
      "BATCH 8 // Krippendorff's alpha LT-EM:\n",
      "[STRATEGY] 0.42\n",
      "[GROUP] 0.55\n",
      "[GOAL] 0.33\n",
      "[HATE] 0.27\n",
      "[TARGET] 0.27\n",
      "\n",
      "\n",
      "BATCH 8 // Krippendorff's alpha EM-LT:\n",
      "[STRATEGY] 0.47\n",
      "[GROUP] 0.32\n",
      "[GOAL] 0.19\n",
      "[HATE] 0.48\n",
      "[TARGET] 0.34\n",
      "\n",
      "\n"
     ]
    }
   ],
   "source": [
    "retrieve_all_alphas(dfs=[data_LT, data_LT_EM], names=['LT', 'EM'], batch=8)\n",
    "retrieve_all_alphas(dfs=[data_EM, data_EM_LT], names=['EM', 'LT'], batch=8)"
   ]
  },
  {
   "cell_type": "markdown",
   "metadata": {},
   "source": [
    "## Batch 9"
   ]
  },
  {
   "cell_type": "code",
   "execution_count": 29,
   "metadata": {},
   "outputs": [],
   "source": [
    "data_LT = load_data('batch_9_LT.csv', 'LT')\n",
    "data_LT_EM = load_data('batch_9_LT_EM.csv', 'EM')\n",
    "\n",
    "data_EM = load_data('batch_9_EM.csv', 'EM')\n",
    "data_EM_LT = load_data('batch_9_EM_LT.csv', 'LT')"
   ]
  },
  {
   "cell_type": "code",
   "execution_count": 30,
   "metadata": {},
   "outputs": [
    {
     "name": "stdout",
     "output_type": "stream",
     "text": [
      "BATCH 9 // Krippendorff's alpha LT-EM:\n",
      "[STRATEGY] 0.14\n",
      "[GROUP] 0.31\n",
      "[GOAL] 0.15\n",
      "[HATE] 0.54\n",
      "[TARGET] 0.72\n",
      "\n",
      "\n",
      "BATCH 9 // Krippendorff's alpha EM-LT:\n",
      "[STRATEGY] 0.39\n",
      "[GROUP] 0.42\n",
      "[GOAL] 0.34\n",
      "[HATE] 0.59\n",
      "[TARGET] 0.66\n",
      "\n",
      "\n"
     ]
    }
   ],
   "source": [
    "retrieve_all_alphas(dfs=[data_LT, data_LT_EM], names=['LT', 'EM'], batch=9)\n",
    "retrieve_all_alphas(dfs=[data_EM, data_EM_LT], names=['EM', 'LT'], batch=9)"
   ]
  },
  {
   "cell_type": "markdown",
   "metadata": {},
   "source": [
    "## Batch 10"
   ]
  },
  {
   "cell_type": "code",
   "execution_count": 31,
   "metadata": {},
   "outputs": [],
   "source": [
    "data_LT = load_data('batch_10_LT.csv', 'LT')\n",
    "data_LT_EM = load_data('batch_10_LT_EM.csv', 'EM')\n",
    "\n",
    "data_EM = load_data('batch_10_EM.csv', 'EM')\n",
    "data_EM_LT = load_data('batch_10_EM_LT.csv', 'LT')"
   ]
  },
  {
   "cell_type": "code",
   "execution_count": 32,
   "metadata": {},
   "outputs": [
    {
     "name": "stdout",
     "output_type": "stream",
     "text": [
      "BATCH 10 // Krippendorff's alpha LT-EM:\n",
      "[STRATEGY] 0.42\n",
      "[GROUP] 0.16\n",
      "[GOAL] 0.23\n",
      "[HATE] 0.49\n",
      "[TARGET] 0.55\n",
      "\n",
      "\n",
      "BATCH 10 // Krippendorff's alpha EM-LT:\n",
      "[STRATEGY] 0.58\n",
      "[GROUP] 0.34\n",
      "[GOAL] 0.24\n",
      "[HATE] 0.36\n",
      "[TARGET] 0.49\n",
      "\n",
      "\n"
     ]
    }
   ],
   "source": [
    "retrieve_all_alphas(dfs=[data_LT, data_LT_EM], names=['LT', 'EM'], batch=10)\n",
    "retrieve_all_alphas(dfs=[data_EM, data_EM_LT], names=['EM', 'LT'], batch=10)"
   ]
  },
  {
   "cell_type": "markdown",
   "metadata": {},
   "source": [
    "## Batch 11"
   ]
  },
  {
   "cell_type": "code",
   "execution_count": 33,
   "metadata": {},
   "outputs": [],
   "source": [
    "data_LT = load_data('batch_11_LT.csv', 'LT')\n",
    "data_LT_EM = load_data('batch_11_LT_EM.csv', 'EM')\n",
    "\n",
    "data_EM = load_data('batch_11_EM.csv', 'EM')\n",
    "data_EM_LT = load_data('batch_11_EM_LT.csv', 'LT')"
   ]
  },
  {
   "cell_type": "code",
   "execution_count": 34,
   "metadata": {},
   "outputs": [
    {
     "name": "stdout",
     "output_type": "stream",
     "text": [
      "BATCH 11 // Krippendorff's alpha LT-EM:\n",
      "[STRATEGY] 0.48\n",
      "[GROUP] 0.33\n",
      "[GOAL] 0.25\n",
      "[HATE] 0.51\n",
      "[TARGET] 0.57\n",
      "\n",
      "\n",
      "BATCH 11 // Krippendorff's alpha EM-LT:\n",
      "[STRATEGY] 0.35\n",
      "[GROUP] 0.24\n",
      "[GOAL] 0.21\n",
      "[HATE] 0.39\n",
      "[TARGET] 0.57\n",
      "\n",
      "\n"
     ]
    }
   ],
   "source": [
    "retrieve_all_alphas(dfs=[data_LT, data_LT_EM], names=['LT', 'EM'], batch=11)\n",
    "retrieve_all_alphas(dfs=[data_EM, data_EM_LT], names=['EM', 'LT'], batch=11)"
   ]
  },
  {
   "cell_type": "markdown",
   "metadata": {},
   "source": [
    "## Batch 12"
   ]
  },
  {
   "cell_type": "code",
   "execution_count": 35,
   "metadata": {},
   "outputs": [],
   "source": [
    "data_LT = load_data('batch_12_LT.csv', 'LT')\n",
    "data_LT_EM = load_data('batch_12_LT_EM.csv', 'EM')\n",
    "\n",
    "data_EM = load_data('batch_12_EM.csv', 'EM')\n",
    "data_EM_LT = load_data('batch_12_EM_LT.csv', 'LT')"
   ]
  },
  {
   "cell_type": "code",
   "execution_count": 36,
   "metadata": {},
   "outputs": [
    {
     "name": "stdout",
     "output_type": "stream",
     "text": [
      "BATCH 12 // Krippendorff's alpha LT-EM:\n",
      "[STRATEGY] 0.34\n",
      "[GROUP] 0.13\n",
      "[GOAL] 0.07\n",
      "[HATE] 0.56\n",
      "[TARGET] 0.63\n",
      "\n",
      "\n",
      "BATCH 12 // Krippendorff's alpha EM-LT:\n",
      "[STRATEGY] 0.18\n",
      "[GROUP] 0.17\n",
      "[GOAL] 0.09\n",
      "[HATE] 0.24\n",
      "[TARGET] 0.29\n",
      "\n",
      "\n"
     ]
    }
   ],
   "source": [
    "retrieve_all_alphas(dfs=[data_LT, data_LT_EM], names=['LT', 'EM'], batch=12)\n",
    "retrieve_all_alphas(dfs=[data_EM, data_EM_LT], names=['EM', 'LT'], batch=12)"
   ]
  },
  {
   "cell_type": "markdown",
   "metadata": {},
   "source": [
    "## Batch 13"
   ]
  },
  {
   "cell_type": "code",
   "execution_count": 37,
   "metadata": {},
   "outputs": [],
   "source": [
    "data_LT = load_data('batch_13_LT.csv', 'LT')\n",
    "data_LT_EM = load_data('batch_13_LT_EM.csv', 'EM')\n",
    "\n",
    "data_EM = load_data('batch_13_EM.csv', 'EM')\n",
    "data_EM_LT = load_data('batch_13_EM_LT.csv', 'LT')"
   ]
  },
  {
   "cell_type": "code",
   "execution_count": 38,
   "metadata": {},
   "outputs": [
    {
     "name": "stdout",
     "output_type": "stream",
     "text": [
      "BATCH 13 // Krippendorff's alpha LT-EM:\n",
      "[STRATEGY] 0.40\n",
      "[GROUP] 0.11\n",
      "[GOAL] 0.15\n",
      "[HATE] 0.41\n",
      "[TARGET] 0.46\n",
      "\n",
      "\n",
      "BATCH 13 // Krippendorff's alpha EM-LT:\n",
      "[STRATEGY] 0.36\n",
      "[GROUP] 0.17\n",
      "[GOAL] -0.08\n",
      "[HATE] 0.45\n",
      "[TARGET] 0.53\n",
      "\n",
      "\n"
     ]
    }
   ],
   "source": [
    "retrieve_all_alphas(dfs=[data_LT, data_LT_EM], names=['LT', 'EM'], batch=13)\n",
    "retrieve_all_alphas(dfs=[data_EM, data_EM_LT], names=['EM', 'LT'], batch=13)"
   ]
  },
  {
   "cell_type": "markdown",
   "metadata": {},
   "source": [
    "## Batch 14"
   ]
  },
  {
   "cell_type": "code",
   "execution_count": 39,
   "metadata": {},
   "outputs": [],
   "source": [
    "data_EM = load_data('batch_14_EM.csv', 'EM')\n",
    "data_EM_AH = load_data('batch_14_EM_AH.csv', 'AH')"
   ]
  },
  {
   "cell_type": "code",
   "execution_count": 40,
   "metadata": {},
   "outputs": [
    {
     "name": "stdout",
     "output_type": "stream",
     "text": [
      "BATCH 14 // Krippendorff's alpha EM-AH:\n",
      "[STRATEGY] 0.54\n",
      "[GROUP] 0.40\n",
      "[GOAL] 0.28\n",
      "[HATE] 0.61\n",
      "[TARGET] 0.78\n",
      "\n",
      "\n"
     ]
    }
   ],
   "source": [
    "retrieve_all_alphas(dfs=[data_EM, data_EM_AH], names=['EM', 'AH'], batch=14)"
   ]
  },
  {
   "cell_type": "code",
   "execution_count": null,
   "metadata": {},
   "outputs": [],
   "source": []
  }
 ],
 "metadata": {
  "colab": {
   "authorship_tag": "ABX9TyPql6wRWVBKtkUiazJJVefO",
   "collapsed_sections": [],
   "name": "krip_alpha_batch3.ipynb",
   "provenance": []
  },
  "kernelspec": {
   "display_name": "Python 3 (ipykernel)",
   "language": "python",
   "name": "python3"
  },
  "language_info": {
   "codemirror_mode": {
    "name": "ipython",
    "version": 3
   },
   "file_extension": ".py",
   "mimetype": "text/x-python",
   "name": "python",
   "nbconvert_exporter": "python",
   "pygments_lexer": "ipython3",
   "version": "3.10.9"
  }
 },
 "nbformat": 4,
 "nbformat_minor": 4
}
