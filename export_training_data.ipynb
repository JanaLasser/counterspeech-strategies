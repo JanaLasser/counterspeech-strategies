{
 "cells": [
  {
   "cell_type": "code",
   "execution_count": 16,
   "id": "59406283-1f8a-49a0-a6d7-8bf7398df93f",
   "metadata": {},
   "outputs": [],
   "source": [
    "from germanhass.DBCode.HassDBAdapter import HassDBAdapter\n",
    "from tqdm import tqdm\n",
    "from multiprocess import Pool\n",
    "import pandas as pd\n",
    "from os.path import join\n",
    "import numpy as np"
   ]
  },
  {
   "cell_type": "code",
   "execution_count": 2,
   "id": "34998aa0-c4e6-4752-98b9-70d9a8af10d2",
   "metadata": {},
   "outputs": [],
   "source": [
    "# connect to the db\n",
    "db = HassDBAdapter()"
   ]
  },
  {
   "cell_type": "code",
   "execution_count": 3,
   "id": "a2d59076-a092-4af2-a697-72045e975419",
   "metadata": {},
   "outputs": [],
   "source": [
    "test_hass = list(db.hate_tweets_coll\\\n",
    "    .find({\"test_set\":\"dataset1\"}, {'full_text':1, 'account_type':1}))\n",
    "train_hass = list(db.hate_tweets_coll\\\n",
    "    .find({\"training_set\":\"dataset1\"}, {'full_text':1, 'account_type':1}))\n",
    "\n",
    "test_counter = list(db.counter_tweets_coll\\\n",
    "    .find({\"test_set\":\"dataset1\"}, {'full_text':1, 'account_type':1}))\n",
    "train_counter = list(db.counter_tweets_coll\\\n",
    "    .find({\"training_set\":\"dataset1\"}, {'full_text':1, 'account_type':1}))"
   ]
  },
  {
   "cell_type": "code",
   "execution_count": 4,
   "id": "365fec37-a5e9-4d1d-8ff3-6f2ab1d1a4de",
   "metadata": {},
   "outputs": [],
   "source": [
    "def extract_information(entry):\n",
    "    row = {\n",
    "        'id':entry['_id'],\n",
    "        'text':entry['full_text'],\n",
    "        'label':entry['account_type']\n",
    "    }\n",
    "    return row"
   ]
  },
  {
   "cell_type": "code",
   "execution_count": 9,
   "id": "95c3c2e0-78b4-42ee-a7e1-7b420ea3a475",
   "metadata": {},
   "outputs": [
    {
     "name": "stderr",
     "output_type": "stream",
     "text": [
      "Process ForkPoolWorker-29:\n",
      "Process ForkPoolWorker-28:\n",
      "Process ForkPoolWorker-25:\n",
      "Process ForkPoolWorker-21:\n",
      "Process ForkPoolWorker-30:\n",
      "Process ForkPoolWorker-24:\n",
      "Process ForkPoolWorker-23:\n",
      "Process ForkPoolWorker-26:\n",
      "Process ForkPoolWorker-22:\n",
      "Traceback (most recent call last):\n",
      "Process ForkPoolWorker-27:\n",
      "Traceback (most recent call last):\n",
      "Traceback (most recent call last):\n",
      "Traceback (most recent call last):\n",
      "Traceback (most recent call last):\n",
      "Traceback (most recent call last):\n",
      "Traceback (most recent call last):\n",
      "Traceback (most recent call last):\n",
      "Traceback (most recent call last):\n",
      "  File \"/home/jana/anaconda3/envs/ri/lib/python3.9/site-packages/multiprocess/process.py\", line 315, in _bootstrap\n",
      "    self.run()\n",
      "  File \"/home/jana/anaconda3/envs/ri/lib/python3.9/site-packages/multiprocess/process.py\", line 315, in _bootstrap\n",
      "    self.run()\n",
      "  File \"/home/jana/anaconda3/envs/ri/lib/python3.9/site-packages/multiprocess/process.py\", line 315, in _bootstrap\n",
      "    self.run()\n",
      "  File \"/home/jana/anaconda3/envs/ri/lib/python3.9/site-packages/multiprocess/process.py\", line 315, in _bootstrap\n",
      "    self.run()\n",
      "Traceback (most recent call last):\n",
      "  File \"/home/jana/anaconda3/envs/ri/lib/python3.9/site-packages/multiprocess/process.py\", line 315, in _bootstrap\n",
      "    self.run()\n",
      "  File \"/home/jana/anaconda3/envs/ri/lib/python3.9/site-packages/multiprocess/process.py\", line 315, in _bootstrap\n",
      "    self.run()\n",
      "  File \"/home/jana/anaconda3/envs/ri/lib/python3.9/site-packages/multiprocess/process.py\", line 315, in _bootstrap\n",
      "    self.run()\n",
      "  File \"/home/jana/anaconda3/envs/ri/lib/python3.9/site-packages/multiprocess/process.py\", line 108, in run\n",
      "    self._target(*self._args, **self._kwargs)\n",
      "  File \"/home/jana/anaconda3/envs/ri/lib/python3.9/site-packages/multiprocess/process.py\", line 108, in run\n",
      "    self._target(*self._args, **self._kwargs)\n",
      "  File \"/home/jana/anaconda3/envs/ri/lib/python3.9/site-packages/multiprocess/process.py\", line 108, in run\n",
      "    self._target(*self._args, **self._kwargs)\n",
      "  File \"/home/jana/anaconda3/envs/ri/lib/python3.9/site-packages/multiprocess/process.py\", line 108, in run\n",
      "    self._target(*self._args, **self._kwargs)\n",
      "  File \"/home/jana/anaconda3/envs/ri/lib/python3.9/site-packages/multiprocess/process.py\", line 315, in _bootstrap\n",
      "    self.run()\n",
      "  File \"/home/jana/anaconda3/envs/ri/lib/python3.9/site-packages/multiprocess/process.py\", line 315, in _bootstrap\n",
      "    self.run()\n",
      "  File \"/home/jana/anaconda3/envs/ri/lib/python3.9/site-packages/multiprocess/process.py\", line 315, in _bootstrap\n",
      "    self.run()\n",
      "  File \"/home/jana/anaconda3/envs/ri/lib/python3.9/site-packages/multiprocess/process.py\", line 108, in run\n",
      "    self._target(*self._args, **self._kwargs)\n",
      "  File \"/home/jana/anaconda3/envs/ri/lib/python3.9/site-packages/multiprocess/process.py\", line 108, in run\n",
      "    self._target(*self._args, **self._kwargs)\n",
      "  File \"/home/jana/anaconda3/envs/ri/lib/python3.9/site-packages/multiprocess/process.py\", line 108, in run\n",
      "    self._target(*self._args, **self._kwargs)\n",
      "  File \"/home/jana/anaconda3/envs/ri/lib/python3.9/site-packages/multiprocess/pool.py\", line 114, in worker\n",
      "    task = get()\n",
      "  File \"/home/jana/anaconda3/envs/ri/lib/python3.9/site-packages/multiprocess/pool.py\", line 114, in worker\n",
      "    task = get()\n",
      "  File \"/home/jana/anaconda3/envs/ri/lib/python3.9/site-packages/multiprocess/pool.py\", line 114, in worker\n",
      "    task = get()\n",
      "  File \"/home/jana/anaconda3/envs/ri/lib/python3.9/site-packages/multiprocess/process.py\", line 108, in run\n",
      "    self._target(*self._args, **self._kwargs)\n",
      "  File \"/home/jana/anaconda3/envs/ri/lib/python3.9/site-packages/multiprocess/pool.py\", line 114, in worker\n",
      "    task = get()\n",
      "  File \"/home/jana/anaconda3/envs/ri/lib/python3.9/site-packages/multiprocess/process.py\", line 108, in run\n",
      "    self._target(*self._args, **self._kwargs)\n",
      "  File \"/home/jana/anaconda3/envs/ri/lib/python3.9/site-packages/multiprocess/process.py\", line 108, in run\n",
      "    self._target(*self._args, **self._kwargs)\n",
      "  File \"/home/jana/anaconda3/envs/ri/lib/python3.9/site-packages/multiprocess/pool.py\", line 114, in worker\n",
      "    task = get()\n",
      "  File \"/home/jana/anaconda3/envs/ri/lib/python3.9/site-packages/multiprocess/pool.py\", line 114, in worker\n",
      "    task = get()\n",
      "  File \"/home/jana/anaconda3/envs/ri/lib/python3.9/site-packages/multiprocess/queues.py\", line 368, in get\n",
      "    with self._rlock:\n",
      "  File \"/home/jana/anaconda3/envs/ri/lib/python3.9/site-packages/multiprocess/pool.py\", line 114, in worker\n",
      "    task = get()\n",
      "  File \"/home/jana/anaconda3/envs/ri/lib/python3.9/site-packages/multiprocess/pool.py\", line 114, in worker\n",
      "    task = get()\n",
      "  File \"/home/jana/anaconda3/envs/ri/lib/python3.9/site-packages/multiprocess/queues.py\", line 368, in get\n",
      "    with self._rlock:\n",
      "  File \"/home/jana/anaconda3/envs/ri/lib/python3.9/site-packages/multiprocess/queues.py\", line 368, in get\n",
      "    with self._rlock:\n",
      "  File \"/home/jana/anaconda3/envs/ri/lib/python3.9/site-packages/multiprocess/queues.py\", line 368, in get\n",
      "    with self._rlock:\n",
      "  File \"/home/jana/anaconda3/envs/ri/lib/python3.9/site-packages/multiprocess/pool.py\", line 114, in worker\n",
      "    task = get()\n",
      "  File \"/home/jana/anaconda3/envs/ri/lib/python3.9/site-packages/multiprocess/queues.py\", line 368, in get\n",
      "    with self._rlock:\n",
      "  File \"/home/jana/anaconda3/envs/ri/lib/python3.9/site-packages/multiprocess/pool.py\", line 114, in worker\n",
      "    task = get()\n",
      "  File \"/home/jana/anaconda3/envs/ri/lib/python3.9/site-packages/multiprocess/queues.py\", line 369, in get\n",
      "    res = self._reader.recv_bytes()\n",
      "  File \"/home/jana/anaconda3/envs/ri/lib/python3.9/site-packages/multiprocess/synchronize.py\", line 101, in __enter__\n",
      "    return self._semlock.__enter__()\n",
      "  File \"/home/jana/anaconda3/envs/ri/lib/python3.9/site-packages/multiprocess/synchronize.py\", line 101, in __enter__\n",
      "    return self._semlock.__enter__()\n",
      "  File \"/home/jana/anaconda3/envs/ri/lib/python3.9/site-packages/multiprocess/synchronize.py\", line 101, in __enter__\n",
      "    return self._semlock.__enter__()\n",
      "  File \"/home/jana/anaconda3/envs/ri/lib/python3.9/site-packages/multiprocess/queues.py\", line 368, in get\n",
      "    with self._rlock:\n",
      "  File \"/home/jana/anaconda3/envs/ri/lib/python3.9/site-packages/multiprocess/queues.py\", line 368, in get\n",
      "    with self._rlock:\n",
      "  File \"/home/jana/anaconda3/envs/ri/lib/python3.9/site-packages/multiprocess/synchronize.py\", line 101, in __enter__\n",
      "    return self._semlock.__enter__()\n",
      "  File \"/home/jana/anaconda3/envs/ri/lib/python3.9/site-packages/multiprocess/synchronize.py\", line 101, in __enter__\n",
      "    return self._semlock.__enter__()\n",
      "  File \"/home/jana/anaconda3/envs/ri/lib/python3.9/site-packages/multiprocess/queues.py\", line 368, in get\n",
      "    with self._rlock:\n",
      "KeyboardInterrupt\n",
      "KeyboardInterrupt\n",
      "  File \"/home/jana/anaconda3/envs/ri/lib/python3.9/site-packages/multiprocess/queues.py\", line 368, in get\n",
      "    with self._rlock:\n",
      "KeyboardInterrupt\n",
      "  File \"/home/jana/anaconda3/envs/ri/lib/python3.9/site-packages/multiprocess/connection.py\", line 224, in recv_bytes\n",
      "    buf = self._recv_bytes(maxlength)\n",
      "  File \"/home/jana/anaconda3/envs/ri/lib/python3.9/site-packages/multiprocess/synchronize.py\", line 101, in __enter__\n",
      "    return self._semlock.__enter__()\n",
      "KeyboardInterrupt\n",
      "  File \"/home/jana/anaconda3/envs/ri/lib/python3.9/site-packages/multiprocess/synchronize.py\", line 101, in __enter__\n",
      "    return self._semlock.__enter__()\n",
      "KeyboardInterrupt\n",
      "KeyboardInterrupt\n",
      "  File \"/home/jana/anaconda3/envs/ri/lib/python3.9/site-packages/multiprocess/synchronize.py\", line 101, in __enter__\n",
      "    return self._semlock.__enter__()\n",
      "  File \"/home/jana/anaconda3/envs/ri/lib/python3.9/site-packages/multiprocess/synchronize.py\", line 101, in __enter__\n",
      "    return self._semlock.__enter__()\n",
      "  File \"/home/jana/anaconda3/envs/ri/lib/python3.9/site-packages/multiprocess/connection.py\", line 422, in _recv_bytes\n",
      "    buf = self._recv(4)\n",
      "  File \"/home/jana/anaconda3/envs/ri/lib/python3.9/site-packages/multiprocess/connection.py\", line 387, in _recv\n",
      "    chunk = read(handle, remaining)\n",
      "KeyboardInterrupt\n",
      "KeyboardInterrupt\n",
      "KeyboardInterrupt\n",
      "KeyboardInterrupt\n"
     ]
    }
   ],
   "source": [
    "dst = '../data/traindata'\n",
    "number_of_cores = 10\n",
    "pool = Pool(number_of_cores)"
   ]
  },
  {
   "cell_type": "code",
   "execution_count": 6,
   "id": "e864f430-3332-469b-ae64-13c6010557dc",
   "metadata": {},
   "outputs": [
    {
     "name": "stderr",
     "output_type": "stream",
     "text": [
      "100%|███████████████████████████████████████████████████████████████████████████████████████████████████████████████████████████████████████████████████████████████████████| 20000/20000 [00:56<00:00, 351.66it/s]\n"
     ]
    }
   ],
   "source": [
    "train = pd.DataFrame()\n",
    "tweets = train_hass[0:10000] + train_counter[0:10000]\n",
    "for row in tqdm(pool.imap_unordered(func=extract_information, \n",
    "                    iterable=tweets), total=len(tweets)):\n",
    "        train = train.append(row, ignore_index=True)\n",
    "#train.to_csv(join(dst, 'train_sample.csv.gzip'), index=False, compression='gzip')"
   ]
  },
  {
   "cell_type": "code",
   "execution_count": 7,
   "id": "956f6985-a7bb-4951-8330-6ec0a1ccc021",
   "metadata": {},
   "outputs": [
    {
     "name": "stderr",
     "output_type": "stream",
     "text": [
      "100%|█████████████████████████████████████████████████████████████████████████████████████████████████████████████████████████████████████████████████████████████████████████| 4000/4000 [00:08<00:00, 461.77it/s]\n"
     ]
    }
   ],
   "source": [
    "test = pd.DataFrame()\n",
    "tweets = test_hass[0:2000] + test_counter[0:2000]\n",
    "for row in tqdm(pool.imap_unordered(func=extract_information, \n",
    "                    iterable=tweets), total=len(tweets)):\n",
    "        test = test.append(row, ignore_index=True)\n",
    "#test.to_csv(join(dst, 'test_sample.csv.gzip'), index=False, compression='gzip')"
   ]
  },
  {
   "cell_type": "code",
   "execution_count": 10,
   "id": "85b07504-b08b-4d62-a7fa-6b465823fdb9",
   "metadata": {},
   "outputs": [
    {
     "name": "stderr",
     "output_type": "stream",
     "text": [
      "100%|█████████████████████████████████████████████████████████████████████████████████████████████████████████████████████████████████████████████████████████████████████████| 4000/4000 [00:10<00:00, 383.17it/s]\n"
     ]
    }
   ],
   "source": [
    "val = pd.DataFrame()\n",
    "tweets = test_hass[2000:4000] + test_counter[2000:4000]\n",
    "for row in tqdm(pool.imap_unordered(func=extract_information, \n",
    "                    iterable=tweets), total=len(tweets)):\n",
    "        val = val.append(row, ignore_index=True)\n",
    "#val.to_csv(join(dst, 'val_sample.csv.gzip'), index=False, compression='gzip')"
   ]
  },
  {
   "cell_type": "code",
   "execution_count": 28,
   "id": "d0cbb344-9703-444b-b990-2ff742dc2aba",
   "metadata": {},
   "outputs": [],
   "source": [
    "for df, fname in zip([train, test, val], ['train', 'test', 'val']):\n",
    "    df['label'] = df['label'].replace({'counter':0, 'hate':1})\n",
    "    df = df.sample(frac=1, random_state=1).reset_index(drop=True)\n",
    "    df['text'] = df['text'].apply(lambda x: x.replace('\\n', ' '))\n",
    "    np.savetxt(join(dst, '{}_text.txt'.format(fname)), df['text'].values, fmt='%s')\n",
    "    np.savetxt(join(dst, '{}_labels.txt'.format(fname)), df['label'].values, fmt='%s')"
   ]
  }
 ],
 "metadata": {
  "kernelspec": {
   "display_name": "Python 3 (ipykernel)",
   "language": "python",
   "name": "python3"
  },
  "language_info": {
   "codemirror_mode": {
    "name": "ipython",
    "version": 3
   },
   "file_extension": ".py",
   "mimetype": "text/x-python",
   "name": "python",
   "nbconvert_exporter": "python",
   "pygments_lexer": "ipython3",
   "version": "3.9.7"
  }
 },
 "nbformat": 4,
 "nbformat_minor": 5
}
