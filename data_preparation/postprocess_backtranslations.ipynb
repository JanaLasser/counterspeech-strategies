{
 "cells": [
  {
   "cell_type": "markdown",
   "id": "8ab20e03-1f17-4414-b962-e153abf0da44",
   "metadata": {},
   "source": [
    "# Postprocess backtranslations"
   ]
  },
  {
   "cell_type": "code",
   "execution_count": 473,
   "id": "84137490-b0ff-442b-8899-bb8e0d2c780c",
   "metadata": {},
   "outputs": [],
   "source": [
    "import pandas as pd\n",
    "from pathlib import Path\n",
    "import spacy\n",
    "import data_preparation_resources as dpr"
   ]
  },
  {
   "cell_type": "code",
   "execution_count": null,
   "id": "1d52481b-b630-43af-9911-daa53f928cf8",
   "metadata": {},
   "outputs": [],
   "source": [
    "# fetch the backtranslations from the GPU cluster\n",
    "! rsync -avze ssh jlasse@nvcluster:/home/jlasse/GermanHass/strategy_analysis/roberta/backtranslations.csv ."
   ]
  },
  {
   "cell_type": "code",
   "execution_count": null,
   "id": "4f855ba8-c747-4880-b820-99ba522e78e5",
   "metadata": {},
   "outputs": [],
   "source": [
    "backtranslations = pd.read_csv(\n",
    "    \"backtranslations.csv\",\n",
    "    dtype={\"tweet_id\":str}\n",
    ")"
   ]
  },
  {
   "cell_type": "code",
   "execution_count": 18,
   "id": "d9ae4238-0361-407a-ab17-bb1250b74627",
   "metadata": {},
   "outputs": [],
   "source": [
    "# drop hard translation duplicates\n",
    "backtranslations = backtranslations.melt(\n",
    "    id_vars=[\"tweet_id\", \"text\", \"strategy_human_label\"],\n",
    "    var_name=\"translation_language\",\n",
    "    value_name=\"translation\"\n",
    ")\n",
    "\n",
    "backtranslations = backtranslations\\\n",
    "    .drop_duplicates(subset=[\"tweet_id\", \"translation\"])\\\n",
    "    .dropna(subset=[\"translation\"])\\\n",
    "    .reset_index()"
   ]
  },
  {
   "cell_type": "code",
   "execution_count": 21,
   "id": "5c1440ea-2fa6-46d9-97f0-cb1766f00440",
   "metadata": {},
   "outputs": [],
   "source": [
    "def calculate_similarity(row):\n",
    "    doc1 = nlp(row[\"text\"])\n",
    "    doc2 = nlp(row[\"translation\"])\n",
    "    return doc1.similarity(doc2)\n",
    "\n",
    "nlp = spacy.load(\"de_core_news_lg\")"
   ]
  },
  {
   "cell_type": "code",
   "execution_count": 22,
   "id": "a9e90402-462b-4547-bd5b-c35040d42bd9",
   "metadata": {},
   "outputs": [
    {
     "name": "stderr",
     "output_type": "stream",
     "text": [
      "/tmp/ipykernel_578335/521646091.py:4: UserWarning: [W008] Evaluating Doc.similarity based on empty vectors.\n",
      "  return doc1.similarity(doc2)\n"
     ]
    }
   ],
   "source": [
    "backtranslations[\"similarity\"] = backtranslations\\\n",
    "    .apply(calculate_similarity, axis=1)"
   ]
  },
  {
   "cell_type": "code",
   "execution_count": 70,
   "id": "9b04816c-2945-4c23-9419-2e873884e3f6",
   "metadata": {},
   "outputs": [],
   "source": [
    "# save raw backtranslations and similarity scores\n",
    "dst = \"../../../data/\n",
    "fname = \"backtranslations_raw_af-ar-cs-da-en-eo-es-et-fi-fr-he-hu-it-no-pl-uk-vi.csv.gzip\"\n",
    "backtranslations.to_csv(Path(dst, fname), index=False, compression=\"gzip\")"
   ]
  },
  {
   "cell_type": "code",
   "execution_count": 81,
   "id": "cf86cf01-96d6-4b2f-8ca0-e3f58b4c76ef",
   "metadata": {},
   "outputs": [
    {
     "name": "stdout",
     "output_type": "stream",
     "text": [
      "10th quantile similarity cutoff: 0.6023\n",
      "90th quantile similarity cutoff: 0.9188\n"
     ]
    }
   ],
   "source": [
    "# drop hard translation duplicates\n",
    "backtranslations_filtered = backtranslations.drop_duplicates(subset=[\"translation\", \"tweet_id\"])\n",
    "\n",
    "# throw away translations that are too similar and too dissimilar\n",
    "lower_cutoff = 0.1\n",
    "upper_cutoff = 0.9\n",
    "quant_lower = backtranslations_filtered[\"similarity\"].quantile(lower_cutoff)\n",
    "quant_upper = backtranslations_filtered[\"similarity\"].quantile(upper_cutoff)\n",
    "print(f\"{lower_cutoff*100:1.0f}th quantile similarity cutoff: {quant_lower:1.4f}\")\n",
    "print(f\"{upper_cutoff*100:1.0f}th quantile similarity cutoff: {quant_upper:1.4f}\")\n",
    "\n",
    "backtranslations_filtered = backtranslations_filtered[\\\n",
    "        ( backtranslations_filtered[\"similarity\"] > quant_lower ) &\\\n",
    "        ( backtranslations_filtered[\"similarity\"] < quant_upper )]\\\n",
    "        .reset_index(drop=True)"
   ]
  },
  {
   "cell_type": "code",
   "execution_count": 83,
   "id": "4b6ed29c-457a-4418-a4a6-4f18a2333d0d",
   "metadata": {},
   "outputs": [
    {
     "data": {
      "text/plain": [
       "['translation_af',\n",
       " 'translation_ar',\n",
       " 'translation_cs',\n",
       " 'translation_da',\n",
       " 'translation_en',\n",
       " 'translation_eo',\n",
       " 'translation_es',\n",
       " 'translation_et',\n",
       " 'translation_fi',\n",
       " 'translation_fr',\n",
       " 'translation_he',\n",
       " 'translation_hu',\n",
       " 'translation_it',\n",
       " 'translation_no',\n",
       " 'translation_pl',\n",
       " 'translation_uk',\n",
       " 'translation_vi']"
      ]
     },
     "execution_count": 83,
     "metadata": {},
     "output_type": "execute_result"
    }
   ],
   "source": [
    "langs = list(backtranslations_filtered[\"translation_language\"].unique())\n",
    "langs.sort()\n",
    "langs"
   ]
  },
  {
   "cell_type": "code",
   "execution_count": 497,
   "id": "c30b9314-053d-46bf-815e-b71597d4abe8",
   "metadata": {},
   "outputs": [],
   "source": [
    "src = \"../../../../data/labelled_samples_with_ids\"\n",
    "cols = [\"tweet_id\", \"[STYLE]\", \"[TOPIC]\", \"[GOAL]\", \"[SPEECH][hate]\", \"[SPEECH][group]\"]\n",
    "human_labels = pd.DataFrame()\n",
    "for pair in dpr.label_pairs:\n",
    "    df = pd.read_csv(\n",
    "        Path(src, pair[0] + \".csv\"),\n",
    "        dtype={\"tweet_id\":str},\n",
    "        delimiter=\";\",\n",
    "        usecols=cols\n",
    "    )\n",
    "    df.loc[df[df[\"[GOAL]\"].isna()].index, \"[GOAL]\"] = \\\n",
    "        df.loc[df[df[\"[GOAL]\"].isna()].index, \"[TOPIC]\"].values\n",
    "    human_labels = pd.concat([human_labels, df])\n",
    "human_labels = human_labels.reset_index(drop=True)\n",
    "human_labels = human_labels.rename(columns={\n",
    "    \"[STYLE]\":\"strategy_human_label\",\n",
    "    \"[TOPIC]\":\"group_human_label\",\n",
    "    \"[GOAL]\":\"goal_human_label\",\n",
    "    \"[SPEECH][hate]\":\"speech_hate_human_label\",\n",
    "    \"[SPEECH][group]\":\"speech_target_human_label\"\n",
    "})"
   ]
  },
  {
   "cell_type": "code",
   "execution_count": 499,
   "id": "7fa6a133-9d38-45cb-ae97-c30edf135480",
   "metadata": {},
   "outputs": [],
   "source": [
    "backtranslations_filtered = pd.merge(\n",
    "    backtranslations_filtered,\n",
    "    human_labels,\n",
    "    how=\"left\",\n",
    "    left_on=\"tweet_id\",\n",
    "    right_on=\"tweet_id\"\n",
    ")"
   ]
  },
  {
   "cell_type": "code",
   "execution_count": 500,
   "id": "4d479662-7c02-4042-a408-661ede20dda7",
   "metadata": {},
   "outputs": [],
   "source": [
    "dst = \"../../../data\"\n",
    "fname = \"backtranslations_filtered_af-ar-cs-da-en-eo-es-et-fi-fr-he-hu-it-no-pl-uk-vi.csv.gzip\"\n",
    "backtranslations_filtered.to_csv(Path(dst, fname), index=False, compression=\"gzip\")"
   ]
  }
 ],
 "metadata": {
  "kernelspec": {
   "display_name": "Python 3 (ipykernel)",
   "language": "python",
   "name": "python3"
  },
  "language_info": {
   "codemirror_mode": {
    "name": "ipython",
    "version": 3
   },
   "file_extension": ".py",
   "mimetype": "text/x-python",
   "name": "python",
   "nbconvert_exporter": "python",
   "pygments_lexer": "ipython3",
   "version": "3.10.9"
  }
 },
 "nbformat": 4,
 "nbformat_minor": 5
}
