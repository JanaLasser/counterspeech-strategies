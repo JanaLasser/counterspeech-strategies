{
 "cells": [
  {
   "cell_type": "code",
   "execution_count": 22,
   "id": "e791908e-3a28-4dbd-b498-a5ed00e7a818",
   "metadata": {},
   "outputs": [],
   "source": [
    "import os,sys\n",
    "from germanhass.ReplyTrees.ReplyTreeWalker import ReplyTreeWalker\n",
    "from germanhass.DBCode.HassDBAdapter import HassDBAdapter\n",
    "from tqdm import tqdm\n",
    "import pandas as pd\n",
    "import numpy as np"
   ]
  },
  {
   "cell_type": "code",
   "execution_count": 9,
   "id": "ac20969a-c12e-4e27-8fd9-13ae144676ce",
   "metadata": {},
   "outputs": [],
   "source": [
    "db = HassDBAdapter()\n",
    "node_cut_off = 50"
   ]
  },
  {
   "cell_type": "code",
   "execution_count": 13,
   "id": "37984d83-5777-48fe-9388-9a854c6c5b3b",
   "metadata": {},
   "outputs": [],
   "source": [
    "def count_nodes(node,count):\n",
    "    count +=1\n",
    "    return count\n",
    "\n",
    "def print_nodes(node):\n",
    "    print(node)\n",
    "\n",
    "def build_dict(node,parameters):\n",
    "    parameters[1][\"year\"].append(node[\"created_at\"][-4:])\n",
    "    parameters[1][\"tree_id\"].append(parameters[0])\n",
    "    parameters[1][\"tweet_id\"].append(node[\"_id\"])\n",
    "    parameters[1][\"hate_score\"].append(node['scores']['hate'])\n",
    "    parameters[1][\"counter_score\"].append(node['scores']['counter'])\n",
    "    parameters[1][\"text\"].append(node[\"full_text\"].replace(\"\\n\",\"\").replace(\",\",\"\"))\n",
    "    return parameters\n",
    "\n",
    "def remove_root_nodes(all_tweets):\n",
    "    df = pd.DataFrame(all_tweets)\n",
    "    #Remove Root Nodes \n",
    "    df=df[df.tree_id!=df.tweet_id]\n",
    "    return df\n",
    "\n",
    "def stable_user(username):\n",
    "    if username.lower() in [\"diezeit\",\"derspiegel\",\"spiegelonline\",\n",
    "                             \"faznet\", \"morgenmagazin\",\"tagesschau\",\n",
    "                             \"tagesthemen\",\"zdfheute\",\"annewilltalk\",\n",
    "                            \"augstein\",\"dunjahayali\",\"janboehm\",\n",
    "                            \"jkasek\", \"maischberger\",\"nicolediekmann\",\n",
    "                            \"cem_oezdemir\", \"c_lindner\", \"goeringeckardt\",\n",
    "                            \"heikomaas\", \"olafscholz\", \"regsprecher\", \n",
    "                            \"renatekuenast\"]:\n",
    "        return True\n",
    "    else: \n",
    "        return False\n",
    "\n",
    "\n",
    "def create_sample(hate_df, counter_df, neutral_df, sample_size=10, \n",
    "                  neutral_sample_size=1, seed=None):\n",
    "    frames = []\n",
    "    for year in [\"2015\",\"2016\",\"2017\",\"2018\"]:\n",
    "        frames += [\n",
    "            get_tweets_by_year(hate_df, year=year, sample_size=sample_size, seed=seed),\n",
    "            get_tweets_by_year(counter_df, year=year, sample_size=sample_size, seed=seed),\n",
    "            get_tweets_by_year(neutral_df, year=year, sample_size=neutral_sample_size, seed=seed)\n",
    "        ]\n",
    "    \n",
    "    df = pd.concat(frames)\n",
    "    return(df)\n",
    "\n",
    "\n",
    "def get_tweets_by_year(df, year=2015, sample_size=None, seed=None):\n",
    "    df = df[df.year==year]\n",
    "    if sample_size:\n",
    "        return df.sample(sample_size, random_state=seed)\n",
    "    else:\n",
    "        return df\n",
    "\n",
    "def get_hate_tweets_df(df,sample_size=None, threshold=0.8):\n",
    "    hate_df = df[df.hate_score >= threshold]\n",
    "    return hate_df\n",
    "def get_counter_tweets_df(df,sample_size=None, threshold=0.8):\n",
    "    counter_df = df[df.counter_score >= threshold]\n",
    "    return counter_df\n",
    "def get_neutral_tweets_df(df, sample_size=None, \n",
    "                          threshold1=0.44, threshold2=0.55):\n",
    "    neutral_df = df[df.hate_score >= threshold1]\n",
    "    neutral_df = neutral_df[neutral_df.hate_score <= threshold2]\n",
    "\n",
    "    return neutral_df"
   ]
  },
  {
   "cell_type": "code",
   "execution_count": 14,
   "id": "290f56fe-0d48-43dc-b068-f6ce1b7f2688",
   "metadata": {},
   "outputs": [
    {
     "name": "stderr",
     "output_type": "stream",
     "text": [
      "100%|█████████████████████████████████████████████████████████| 204544/204544 [00:26<00:00, 7721.88it/s]\n"
     ]
    }
   ],
   "source": [
    "all_tweets = {\"year\":[],\n",
    "              \"tree_id\":[],\n",
    "              \"tweet_id\":[],\n",
    "              \"hate_score\":[],\n",
    "              \"counter_score\":[],\n",
    "              \"text\":[]\n",
    "              }\n",
    "\n",
    "total = db.ReplyTree_coll.count_documents({})\n",
    "for tree in tqdm(db.ReplyTree_coll.find({}),total=total):\n",
    "    _id  = tree[\"_id\"]\n",
    "    RT = ReplyTreeWalker(tree)\n",
    "    num_nodes =RT.walk_w_parameters(count_nodes,parameters=0)\n",
    "    if num_nodes >= node_cut_off:\n",
    "        if stable_user(tree[\"screen_name\"]):\n",
    "            \n",
    "            #If you want to save the tree. \n",
    "            #with open(\"../results/colored_trees/\"+_id+\".json\", 'w') as outfile:\n",
    "            #    json.dump(RT.doc, outfile)\n",
    "            #RT.walk(print_nodes)\n",
    "            #print(parameters[0])\n",
    "            parameters = RT.walk_w_parameters(build_dict,None,parameters=[_id,all_tweets])\n",
    "            all_tweets=parameters[1]\n",
    "        #else:\n",
    "        #    print(\"Skipping\",tree[\"screen_name\"])\n",
    "\n",
    "#Remove the root nodes from the sample\n",
    "df = remove_root_nodes(all_tweets)\n",
    "\n",
    "#Split the dataframes by tweet type\n",
    "hate_df = get_hate_tweets_df(df)\n",
    "counter_df = get_counter_tweets_df(df)\n",
    "neutral_df = get_neutral_tweets_df(df)\n",
    "\n"
   ]
  },
  {
   "cell_type": "code",
   "execution_count": 25,
   "id": "4feebb96-e747-4c3c-abb3-23970284eba0",
   "metadata": {},
   "outputs": [
    {
     "data": {
      "text/html": [
       "<div>\n",
       "<style scoped>\n",
       "    .dataframe tbody tr th:only-of-type {\n",
       "        vertical-align: middle;\n",
       "    }\n",
       "\n",
       "    .dataframe tbody tr th {\n",
       "        vertical-align: top;\n",
       "    }\n",
       "\n",
       "    .dataframe thead th {\n",
       "        text-align: right;\n",
       "    }\n",
       "</style>\n",
       "<table border=\"1\" class=\"dataframe\">\n",
       "  <thead>\n",
       "    <tr style=\"text-align: right;\">\n",
       "      <th></th>\n",
       "      <th>year</th>\n",
       "      <th>tree_id</th>\n",
       "      <th>tweet_id</th>\n",
       "      <th>hate_score</th>\n",
       "      <th>counter_score</th>\n",
       "      <th>text</th>\n",
       "      <th>label</th>\n",
       "    </tr>\n",
       "  </thead>\n",
       "  <tbody>\n",
       "    <tr>\n",
       "      <th>1</th>\n",
       "      <td>2018</td>\n",
       "      <td>1000007502136860672</td>\n",
       "      <td>1000027660238671872</td>\n",
       "      <td>0.935810</td>\n",
       "      <td>0.064190</td>\n",
       "      <td>+++ACHUNG Falschmeldung des BRD Staatsfunks+++</td>\n",
       "      <td>NaN</td>\n",
       "    </tr>\n",
       "    <tr>\n",
       "      <th>2</th>\n",
       "      <td>2018</td>\n",
       "      <td>1000007502136860672</td>\n",
       "      <td>1000351861331955712</td>\n",
       "      <td>0.974365</td>\n",
       "      <td>0.025635</td>\n",
       "      <td>Tuet Buße! Und immer wieder diser Ärger darübe...</td>\n",
       "      <td>NaN</td>\n",
       "    </tr>\n",
       "  </tbody>\n",
       "</table>\n",
       "</div>"
      ],
      "text/plain": [
       "   year              tree_id             tweet_id  hate_score  counter_score  \\\n",
       "1  2018  1000007502136860672  1000027660238671872    0.935810       0.064190   \n",
       "2  2018  1000007502136860672  1000351861331955712    0.974365       0.025635   \n",
       "\n",
       "                                                text  label  \n",
       "1     +++ACHUNG Falschmeldung des BRD Staatsfunks+++    NaN  \n",
       "2  Tuet Buße! Und immer wieder diser Ärger darübe...    NaN  "
      ]
     },
     "execution_count": 25,
     "metadata": {},
     "output_type": "execute_result"
    }
   ],
   "source": [
    "df.head(2)"
   ]
  },
  {
   "cell_type": "code",
   "execution_count": 27,
   "id": "fea34a47-f429-42f8-9b93-2c6e51b319c5",
   "metadata": {},
   "outputs": [],
   "source": [
    "df['label'] = np.nan\n",
    "df.loc[df['hate_score'] >= 0.8, 'label'] = 'hate'\n",
    "df.loc[df['counter_score'] >= 0.8, 'label'] = 'counter'\n",
    "df.loc[(df['hate_score'] >= 0.44) & (df['hate_score'] <= 0.55), 'label'] = 'neutral'"
   ]
  },
  {
   "cell_type": "code",
   "execution_count": 29,
   "id": "3453e6cc-be0b-471c-86d1-e1955c7fd00f",
   "metadata": {},
   "outputs": [
    {
     "data": {
      "text/plain": [
       "hate       80537\n",
       "neutral    59149\n",
       "counter    22237\n",
       "Name: label, dtype: int64"
      ]
     },
     "execution_count": 29,
     "metadata": {},
     "output_type": "execute_result"
    }
   ],
   "source": [
    "df['label'].value_counts()"
   ]
  },
  {
   "cell_type": "code",
   "execution_count": 30,
   "id": "306261a8-da18-4dcd-af6b-15be5a8138b4",
   "metadata": {},
   "outputs": [
    {
     "data": {
      "text/plain": [
       "80537"
      ]
     },
     "execution_count": 30,
     "metadata": {},
     "output_type": "execute_result"
    }
   ],
   "source": [
    "len(hate_df)"
   ]
  },
  {
   "cell_type": "code",
   "execution_count": 32,
   "id": "28f7c137-177b-4641-ba87-e543496ce736",
   "metadata": {},
   "outputs": [
    {
     "data": {
      "text/plain": [
       "22237"
      ]
     },
     "execution_count": 32,
     "metadata": {},
     "output_type": "execute_result"
    }
   ],
   "source": [
    "len(counter_df)"
   ]
  },
  {
   "cell_type": "code",
   "execution_count": 33,
   "id": "aae8ff93-170a-4172-addf-28cdd4952e40",
   "metadata": {},
   "outputs": [
    {
     "data": {
      "text/plain": [
       "59149"
      ]
     },
     "execution_count": 33,
     "metadata": {},
     "output_type": "execute_result"
    }
   ],
   "source": [
    "len(neutral_df)"
   ]
  },
  {
   "cell_type": "code",
   "execution_count": 34,
   "id": "def014f8-7b59-4f9d-b632-ee5002237710",
   "metadata": {},
   "outputs": [
    {
     "data": {
      "text/plain": [
       "355963"
      ]
     },
     "execution_count": 34,
     "metadata": {},
     "output_type": "execute_result"
    }
   ],
   "source": [
    "len(df)"
   ]
  },
  {
   "cell_type": "code",
   "execution_count": 37,
   "id": "492f2eaa-23fa-432f-9751-dc984fc22d62",
   "metadata": {},
   "outputs": [
    {
     "data": {
      "text/plain": [
       "0.45488716523908385"
      ]
     },
     "execution_count": 37,
     "metadata": {},
     "output_type": "execute_result"
    }
   ],
   "source": [
    "(len(hate_df) + len(counter_df) + len(neutral_df)) / len(df)"
   ]
  },
  {
   "cell_type": "code",
   "execution_count": 19,
   "id": "b9a4dccb-8dfc-448a-ba65-58f5fd7ef32b",
   "metadata": {},
   "outputs": [],
   "source": [
    "sample = create_sample(hate_df, counter_df, neutral_df ,sample_size=100,\n",
    "                             neutral_sample_size=50, seed=1)\n",
    "#final_sample.to_csv(\"test_w_New_db.csv\",index=False)"
   ]
  },
  {
   "cell_type": "code",
   "execution_count": 20,
   "id": "8d942e19-1a72-4abb-b8f3-dd346ee14477",
   "metadata": {},
   "outputs": [
    {
     "data": {
      "text/html": [
       "<div>\n",
       "<style scoped>\n",
       "    .dataframe tbody tr th:only-of-type {\n",
       "        vertical-align: middle;\n",
       "    }\n",
       "\n",
       "    .dataframe tbody tr th {\n",
       "        vertical-align: top;\n",
       "    }\n",
       "\n",
       "    .dataframe thead th {\n",
       "        text-align: right;\n",
       "    }\n",
       "</style>\n",
       "<table border=\"1\" class=\"dataframe\">\n",
       "  <thead>\n",
       "    <tr style=\"text-align: right;\">\n",
       "      <th></th>\n",
       "      <th>year</th>\n",
       "      <th>tree_id</th>\n",
       "      <th>tweet_id</th>\n",
       "      <th>hate_score</th>\n",
       "      <th>counter_score</th>\n",
       "      <th>text</th>\n",
       "    </tr>\n",
       "  </thead>\n",
       "  <tbody>\n",
       "    <tr>\n",
       "      <th>170312</th>\n",
       "      <td>2015</td>\n",
       "      <td>655342271462666240</td>\n",
       "      <td>655355959603306496</td>\n",
       "      <td>0.820311</td>\n",
       "      <td>0.179689</td>\n",
       "      <td>@HonigumdenBart @faznet @HeikoMaas 2/2genauso ...</td>\n",
       "    </tr>\n",
       "    <tr>\n",
       "      <th>166671</th>\n",
       "      <td>2015</td>\n",
       "      <td>555056951931850753</td>\n",
       "      <td>555060252610424833</td>\n",
       "      <td>0.896558</td>\n",
       "      <td>0.103442</td>\n",
       "      <td>@SPIEGELONLINE Hat Ihm wohl der Maas geflüstert?</td>\n",
       "    </tr>\n",
       "    <tr>\n",
       "      <th>168501</th>\n",
       "      <td>2015</td>\n",
       "      <td>614858643348062208</td>\n",
       "      <td>614877294985891840</td>\n",
       "      <td>0.814365</td>\n",
       "      <td>0.185635</td>\n",
       "      <td>@DJanecek @W_SK @RenateKuenast @sven_kindler D...</td>\n",
       "    </tr>\n",
       "    <tr>\n",
       "      <th>166829</th>\n",
       "      <td>2015</td>\n",
       "      <td>557150869133983744</td>\n",
       "      <td>557198522282704896</td>\n",
       "      <td>0.871440</td>\n",
       "      <td>0.128560</td>\n",
       "      <td>@cem_oezdemir Warum? Darf dort nur staatstrage...</td>\n",
       "    </tr>\n",
       "    <tr>\n",
       "      <th>169887</th>\n",
       "      <td>2015</td>\n",
       "      <td>641847826041970689</td>\n",
       "      <td>642738330933792768</td>\n",
       "      <td>0.830976</td>\n",
       "      <td>0.169024</td>\n",
       "      <td>@tagesschau Die können sich selbst helfen: Put...</td>\n",
       "    </tr>\n",
       "    <tr>\n",
       "      <th>...</th>\n",
       "      <td>...</td>\n",
       "      <td>...</td>\n",
       "      <td>...</td>\n",
       "      <td>...</td>\n",
       "      <td>...</td>\n",
       "      <td>...</td>\n",
       "    </tr>\n",
       "    <tr>\n",
       "      <th>86976</th>\n",
       "      <td>2018</td>\n",
       "      <td>1040610669543010304</td>\n",
       "      <td>1041121937416744960</td>\n",
       "      <td>0.523125</td>\n",
       "      <td>0.476875</td>\n",
       "      <td>Vielen Dank</td>\n",
       "    </tr>\n",
       "    <tr>\n",
       "      <th>74922</th>\n",
       "      <td>2018</td>\n",
       "      <td>1037080812053778432</td>\n",
       "      <td>1037210378781028353</td>\n",
       "      <td>0.484187</td>\n",
       "      <td>0.515813</td>\n",
       "      <td>multichannelmarketing</td>\n",
       "    </tr>\n",
       "    <tr>\n",
       "      <th>355490</th>\n",
       "      <td>2018</td>\n",
       "      <td>996345814942396416</td>\n",
       "      <td>996350864863318016</td>\n",
       "      <td>0.463835</td>\n",
       "      <td>0.536165</td>\n",
       "      <td>Geht echt nicht</td>\n",
       "    </tr>\n",
       "    <tr>\n",
       "      <th>344989</th>\n",
       "      <td>2018</td>\n",
       "      <td>986552735070937088</td>\n",
       "      <td>986631672358670336</td>\n",
       "      <td>0.524306</td>\n",
       "      <td>0.475694</td>\n",
       "      <td>Endlich mal mit dem BlaBla aufhören und dagege...</td>\n",
       "    </tr>\n",
       "    <tr>\n",
       "      <th>313376</th>\n",
       "      <td>2018</td>\n",
       "      <td>966264513694715904</td>\n",
       "      <td>966416846693036034</td>\n",
       "      <td>0.489442</td>\n",
       "      <td>0.510558</td>\n",
       "      <td>Auch aber eigentlich über alles</td>\n",
       "    </tr>\n",
       "  </tbody>\n",
       "</table>\n",
       "<p>1000 rows × 6 columns</p>\n",
       "</div>"
      ],
      "text/plain": [
       "        year              tree_id             tweet_id  hate_score  \\\n",
       "170312  2015   655342271462666240   655355959603306496    0.820311   \n",
       "166671  2015   555056951931850753   555060252610424833    0.896558   \n",
       "168501  2015   614858643348062208   614877294985891840    0.814365   \n",
       "166829  2015   557150869133983744   557198522282704896    0.871440   \n",
       "169887  2015   641847826041970689   642738330933792768    0.830976   \n",
       "...      ...                  ...                  ...         ...   \n",
       "86976   2018  1040610669543010304  1041121937416744960    0.523125   \n",
       "74922   2018  1037080812053778432  1037210378781028353    0.484187   \n",
       "355490  2018   996345814942396416   996350864863318016    0.463835   \n",
       "344989  2018   986552735070937088   986631672358670336    0.524306   \n",
       "313376  2018   966264513694715904   966416846693036034    0.489442   \n",
       "\n",
       "        counter_score                                               text  \n",
       "170312       0.179689  @HonigumdenBart @faznet @HeikoMaas 2/2genauso ...  \n",
       "166671       0.103442   @SPIEGELONLINE Hat Ihm wohl der Maas geflüstert?  \n",
       "168501       0.185635  @DJanecek @W_SK @RenateKuenast @sven_kindler D...  \n",
       "166829       0.128560  @cem_oezdemir Warum? Darf dort nur staatstrage...  \n",
       "169887       0.169024  @tagesschau Die können sich selbst helfen: Put...  \n",
       "...               ...                                                ...  \n",
       "86976        0.476875                                        Vielen Dank  \n",
       "74922        0.515813                              multichannelmarketing  \n",
       "355490       0.536165                                    Geht echt nicht  \n",
       "344989       0.475694  Endlich mal mit dem BlaBla aufhören und dagege...  \n",
       "313376       0.510558                    Auch aber eigentlich über alles  \n",
       "\n",
       "[1000 rows x 6 columns]"
      ]
     },
     "execution_count": 20,
     "metadata": {},
     "output_type": "execute_result"
    }
   ],
   "source": [
    "sample"
   ]
  }
 ],
 "metadata": {
  "kernelspec": {
   "display_name": "Python 3 (ipykernel)",
   "language": "python",
   "name": "python3"
  },
  "language_info": {
   "codemirror_mode": {
    "name": "ipython",
    "version": 3
   },
   "file_extension": ".py",
   "mimetype": "text/x-python",
   "name": "python",
   "nbconvert_exporter": "python",
   "pygments_lexer": "ipython3",
   "version": "3.9.7"
  }
 },
 "nbformat": 4,
 "nbformat_minor": 5
}
