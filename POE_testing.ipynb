{
 "cells": [
  {
   "cell_type": "code",
   "execution_count": 1,
   "id": "1bdcebb2-f586-4dac-ae72-c822cbd98e25",
   "metadata": {},
   "outputs": [
    {
     "name": "stderr",
     "output_type": "stream",
     "text": [
      "/home/jana/Projects/CSS_reconquista_internet/analysis/code/GermanHass/germanhass/Model.py:894: SyntaxWarning: \"is\" with a literal. Did you mean \"==\"?\n",
      "  if tag is \"hate\":\n"
     ]
    }
   ],
   "source": [
    "from germanhass.POE.PanelOfExperts import PanelOfExperts\n",
    "from os.path import join\n",
    "from loggers import EpochLogger"
   ]
  },
  {
   "cell_type": "code",
   "execution_count": 3,
   "id": "59505e1d-46d0-4813-a7b1-8abe4bf94850",
   "metadata": {},
   "outputs": [
    {
     "name": "stdout",
     "output_type": "stream",
     "text": [
      "WARNING: No doc2vec parameters are loaded!\n",
      "You may want to  call M.use_standard_doc2vec_parameters().\n"
     ]
    },
    {
     "name": "stderr",
     "output_type": "stream",
     "text": [
      "Converting set to Tagged Documents: 100it [00:02, 35.18it/s]\n"
     ]
    },
    {
     "name": "stdout",
     "output_type": "stream",
     "text": [
      "WARNING: No doc2vec parameters are loaded!\n",
      "You may want to  call M.use_standard_doc2vec_parameters().\n"
     ]
    },
    {
     "name": "stderr",
     "output_type": "stream",
     "text": [
      "Converting set to Tagged Documents: 100it [00:02, 38.74it/s]\n",
      "100%|██████████████████████████████████████████████████████████████| 289/289 [00:00<00:00, 23781.71it/s]\n"
     ]
    },
    {
     "name": "stdout",
     "output_type": "stream",
     "text": [
      "adding:      accuracy                                 model_id data_label classifier\n",
      "6    0.757030      2020-01-17-21:59:21-joshua-dataset1   dataset1     logreg\n",
      "3    0.756440      2020-01-17-20:54:25-joshua-dataset1   dataset1     logreg\n",
      "72   0.756348      2020-01-18-23:58:58-joshua-dataset2   dataset2     logreg\n",
      "69   0.756298      2020-01-18-22:54:50-joshua-dataset2   dataset2     logreg\n",
      "125  0.755628  2020-04-03-1358356d7a71-joshua-dataset3   dataset3     logreg\n",
      "210  0.755010  2020-04-04-02133543b848-joshua-dataset4   dataset4     logreg\n",
      "167  0.754620  2020-04-03-19484148ddcb-joshua-dataset4   dataset4     logreg\n",
      "129  0.754198  2020-04-03-14314005f50e-joshua-dataset3   dataset3     logreg\n",
      "256  0.753820  2020-04-04-08432532b2b7-joshua-dataset5   dataset5     logreg\n",
      "197  0.753270  2020-04-04-000320670e78-joshua-dataset4   dataset4     logreg\n",
      "252  0.753250  2020-04-04-081029d1b7d4-joshua-dataset5   dataset5     logreg\n",
      "194  0.752450  2020-04-03-23311287f000-joshua-dataset4   dataset4     logreg\n",
      "70   0.752390      2020-01-18-23:03:01-joshua-dataset2   dataset2     logreg\n",
      "159  0.752130  2020-04-03-1846063fae79-joshua-dataset3   dataset3     logreg\n",
      "122  0.751690  2020-04-03-104727c5504b-joshua-dataset1   dataset1     logreg\n",
      "7    0.751510      2020-01-17-22:13:53-joshua-dataset1   dataset1     logreg\n",
      "66   0.751440      2020-01-18-21:43:23-joshua-dataset2   dataset2     logreg\n",
      "120  0.751300  2020-04-03-104724e7282b-joshua-dataset1   dataset1     logreg\n",
      "155  0.751130  2020-04-03-181431141d9f-joshua-dataset3   dataset3     logreg\n",
      "127  0.751108  2020-04-03-142944abb17c-joshua-dataset3   dataset3     logreg\n",
      "accuracy                                  0.75703\n",
      "model_id      2020-01-17-21:59:21-joshua-dataset1\n",
      "data_label                               dataset1\n",
      "classifier                                 logreg\n",
      "Name: 6, dtype: object\n",
      "model filename:  /data/models/2020-01-17-21:59:21-joshua-dataset1.d2v\n",
      "loaded model from  /mnt/medea_data/reconquista_internet/models/2020-01-17-21:59:21-joshua-dataset1.d2v\n",
      "classifier dir /mnt/medea_data/reconquista_internet/classifiers/2020-01-17-21:59:21-joshua-dataset1.logreg\n",
      "accuracy                                  0.75644\n",
      "model_id      2020-01-17-20:54:25-joshua-dataset1\n",
      "data_label                               dataset1\n",
      "classifier                                 logreg\n",
      "Name: 3, dtype: object\n",
      "model filename:  /data/models/2020-01-17-20:54:25-joshua-dataset1.d2v\n"
     ]
    },
    {
     "name": "stderr",
     "output_type": "stream",
     "text": [
      "/home/jana/anaconda3/envs/ri/lib/python3.9/site-packages/sklearn/utils/deprecation.py:144: FutureWarning: The sklearn.linear_model.logistic module is  deprecated in version 0.22 and will be removed in version 0.24. The corresponding classes / functions should instead be imported from sklearn.linear_model. Anything that cannot be imported from sklearn.linear_model is now part of the private API.\n",
      "  warnings.warn(message, FutureWarning)\n",
      "/home/jana/anaconda3/envs/ri/lib/python3.9/site-packages/sklearn/base.py:313: UserWarning: Trying to unpickle estimator LogisticRegression from version 0.19.2 when using version 0.22. This might lead to breaking code or invalid results. Use at your own risk.\n",
      "  warnings.warn(\n"
     ]
    },
    {
     "name": "stdout",
     "output_type": "stream",
     "text": [
      "loaded model from  /mnt/medea_data/reconquista_internet/models/2020-01-17-20:54:25-joshua-dataset1.d2v\n",
      "classifier dir /mnt/medea_data/reconquista_internet/classifiers/2020-01-17-20:54:25-joshua-dataset1.logreg\n",
      "accuracy                                 0.756348\n",
      "model_id      2020-01-18-23:58:58-joshua-dataset2\n",
      "data_label                               dataset2\n",
      "classifier                                 logreg\n",
      "Name: 72, dtype: object\n",
      "model filename:  /data/models/2020-01-18-23:58:58-joshua-dataset2.d2v\n"
     ]
    },
    {
     "name": "stderr",
     "output_type": "stream",
     "text": [
      "/home/jana/anaconda3/envs/ri/lib/python3.9/site-packages/sklearn/base.py:313: UserWarning: Trying to unpickle estimator LogisticRegression from version 0.19.2 when using version 0.22. This might lead to breaking code or invalid results. Use at your own risk.\n",
      "  warnings.warn(\n"
     ]
    },
    {
     "name": "stdout",
     "output_type": "stream",
     "text": [
      "loaded model from  /mnt/medea_data/reconquista_internet/models/2020-01-18-23:58:58-joshua-dataset2.d2v\n",
      "classifier dir /mnt/medea_data/reconquista_internet/classifiers/2020-01-18-23:58:58-joshua-dataset2.logreg\n",
      "accuracy                                 0.756298\n",
      "model_id      2020-01-18-22:54:50-joshua-dataset2\n",
      "data_label                               dataset2\n",
      "classifier                                 logreg\n",
      "Name: 69, dtype: object\n",
      "model filename:  /data/models/2020-01-18-22:54:50-joshua-dataset2.d2v\n"
     ]
    },
    {
     "name": "stderr",
     "output_type": "stream",
     "text": [
      "/home/jana/anaconda3/envs/ri/lib/python3.9/site-packages/sklearn/base.py:313: UserWarning: Trying to unpickle estimator LogisticRegression from version 0.19.2 when using version 0.22. This might lead to breaking code or invalid results. Use at your own risk.\n",
      "  warnings.warn(\n"
     ]
    },
    {
     "name": "stdout",
     "output_type": "stream",
     "text": [
      "loaded model from  /mnt/medea_data/reconquista_internet/models/2020-01-18-22:54:50-joshua-dataset2.d2v\n",
      "classifier dir /mnt/medea_data/reconquista_internet/classifiers/2020-01-18-22:54:50-joshua-dataset2.logreg\n",
      "accuracy                                     0.755628\n",
      "model_id      2020-04-03-1358356d7a71-joshua-dataset3\n",
      "data_label                                   dataset3\n",
      "classifier                                     logreg\n",
      "Name: 125, dtype: object\n",
      "model filename:  /data/models/2020-04-03-1358356d7a71-joshua-dataset3.d2v\n"
     ]
    },
    {
     "name": "stderr",
     "output_type": "stream",
     "text": [
      "/home/jana/anaconda3/envs/ri/lib/python3.9/site-packages/sklearn/base.py:313: UserWarning: Trying to unpickle estimator LogisticRegression from version 0.19.2 when using version 0.22. This might lead to breaking code or invalid results. Use at your own risk.\n",
      "  warnings.warn(\n"
     ]
    },
    {
     "name": "stdout",
     "output_type": "stream",
     "text": [
      "loaded model from  /mnt/medea_data/reconquista_internet/models/2020-04-03-1358356d7a71-joshua-dataset3.d2v\n",
      "classifier dir /mnt/medea_data/reconquista_internet/classifiers/2020-04-03-1358356d7a71-joshua-dataset3.logreg\n",
      "accuracy                                      0.75501\n",
      "model_id      2020-04-04-02133543b848-joshua-dataset4\n",
      "data_label                                   dataset4\n",
      "classifier                                     logreg\n",
      "Name: 210, dtype: object\n",
      "model filename:  /data/models/2020-04-04-02133543b848-joshua-dataset4.d2v\n"
     ]
    },
    {
     "name": "stderr",
     "output_type": "stream",
     "text": [
      "/home/jana/anaconda3/envs/ri/lib/python3.9/site-packages/sklearn/base.py:313: UserWarning: Trying to unpickle estimator LogisticRegression from version 0.22.1 when using version 0.22. This might lead to breaking code or invalid results. Use at your own risk.\n",
      "  warnings.warn(\n"
     ]
    },
    {
     "name": "stdout",
     "output_type": "stream",
     "text": [
      "loaded model from  /mnt/medea_data/reconquista_internet/models/2020-04-04-02133543b848-joshua-dataset4.d2v\n",
      "classifier dir /mnt/medea_data/reconquista_internet/classifiers/2020-04-04-02133543b848-joshua-dataset4.logreg\n",
      "accuracy                                      0.75462\n",
      "model_id      2020-04-03-19484148ddcb-joshua-dataset4\n",
      "data_label                                   dataset4\n",
      "classifier                                     logreg\n",
      "Name: 167, dtype: object\n",
      "model filename:  /data/models/2020-04-03-19484148ddcb-joshua-dataset4.d2v\n"
     ]
    },
    {
     "name": "stderr",
     "output_type": "stream",
     "text": [
      "/home/jana/anaconda3/envs/ri/lib/python3.9/site-packages/sklearn/base.py:313: UserWarning: Trying to unpickle estimator LogisticRegression from version 0.22.1 when using version 0.22. This might lead to breaking code or invalid results. Use at your own risk.\n",
      "  warnings.warn(\n"
     ]
    },
    {
     "name": "stdout",
     "output_type": "stream",
     "text": [
      "loaded model from  /mnt/medea_data/reconquista_internet/models/2020-04-03-19484148ddcb-joshua-dataset4.d2v\n",
      "classifier dir /mnt/medea_data/reconquista_internet/classifiers/2020-04-03-19484148ddcb-joshua-dataset4.logreg\n",
      "accuracy                                     0.754198\n",
      "model_id      2020-04-03-14314005f50e-joshua-dataset3\n",
      "data_label                                   dataset3\n",
      "classifier                                     logreg\n",
      "Name: 129, dtype: object\n",
      "model filename:  /data/models/2020-04-03-14314005f50e-joshua-dataset3.d2v\n"
     ]
    },
    {
     "name": "stderr",
     "output_type": "stream",
     "text": [
      "/home/jana/anaconda3/envs/ri/lib/python3.9/site-packages/sklearn/base.py:313: UserWarning: Trying to unpickle estimator LogisticRegression from version 0.22.1 when using version 0.22. This might lead to breaking code or invalid results. Use at your own risk.\n",
      "  warnings.warn(\n"
     ]
    },
    {
     "name": "stdout",
     "output_type": "stream",
     "text": [
      "loaded model from  /mnt/medea_data/reconquista_internet/models/2020-04-03-14314005f50e-joshua-dataset3.d2v\n",
      "classifier dir /mnt/medea_data/reconquista_internet/classifiers/2020-04-03-14314005f50e-joshua-dataset3.logreg\n",
      "accuracy                                      0.75382\n",
      "model_id      2020-04-04-08432532b2b7-joshua-dataset5\n",
      "data_label                                   dataset5\n",
      "classifier                                     logreg\n",
      "Name: 256, dtype: object\n",
      "model filename:  /data/models/2020-04-04-08432532b2b7-joshua-dataset5.d2v\n"
     ]
    },
    {
     "name": "stderr",
     "output_type": "stream",
     "text": [
      "/home/jana/anaconda3/envs/ri/lib/python3.9/site-packages/sklearn/base.py:313: UserWarning: Trying to unpickle estimator LogisticRegression from version 0.22.1 when using version 0.22. This might lead to breaking code or invalid results. Use at your own risk.\n",
      "  warnings.warn(\n"
     ]
    },
    {
     "name": "stdout",
     "output_type": "stream",
     "text": [
      "loaded model from  /mnt/medea_data/reconquista_internet/models/2020-04-04-08432532b2b7-joshua-dataset5.d2v\n",
      "classifier dir /mnt/medea_data/reconquista_internet/classifiers/2020-04-04-08432532b2b7-joshua-dataset5.logreg\n",
      "accuracy                                      0.75327\n",
      "model_id      2020-04-04-000320670e78-joshua-dataset4\n",
      "data_label                                   dataset4\n",
      "classifier                                     logreg\n",
      "Name: 197, dtype: object\n",
      "model filename:  /data/models/2020-04-04-000320670e78-joshua-dataset4.d2v\n"
     ]
    },
    {
     "name": "stderr",
     "output_type": "stream",
     "text": [
      "/home/jana/anaconda3/envs/ri/lib/python3.9/site-packages/sklearn/base.py:313: UserWarning: Trying to unpickle estimator LogisticRegression from version 0.22.1 when using version 0.22. This might lead to breaking code or invalid results. Use at your own risk.\n",
      "  warnings.warn(\n"
     ]
    },
    {
     "name": "stdout",
     "output_type": "stream",
     "text": [
      "loaded model from  /mnt/medea_data/reconquista_internet/models/2020-04-04-000320670e78-joshua-dataset4.d2v\n",
      "classifier dir /mnt/medea_data/reconquista_internet/classifiers/2020-04-04-000320670e78-joshua-dataset4.logreg\n",
      "accuracy                                      0.75325\n",
      "model_id      2020-04-04-081029d1b7d4-joshua-dataset5\n",
      "data_label                                   dataset5\n",
      "classifier                                     logreg\n",
      "Name: 252, dtype: object\n",
      "model filename:  /data/models/2020-04-04-081029d1b7d4-joshua-dataset5.d2v\n"
     ]
    },
    {
     "name": "stderr",
     "output_type": "stream",
     "text": [
      "/home/jana/anaconda3/envs/ri/lib/python3.9/site-packages/sklearn/base.py:313: UserWarning: Trying to unpickle estimator LogisticRegression from version 0.22.1 when using version 0.22. This might lead to breaking code or invalid results. Use at your own risk.\n",
      "  warnings.warn(\n"
     ]
    },
    {
     "name": "stdout",
     "output_type": "stream",
     "text": [
      "loaded model from  /mnt/medea_data/reconquista_internet/models/2020-04-04-081029d1b7d4-joshua-dataset5.d2v\n",
      "classifier dir /mnt/medea_data/reconquista_internet/classifiers/2020-04-04-081029d1b7d4-joshua-dataset5.logreg\n",
      "accuracy                                      0.75245\n",
      "model_id      2020-04-03-23311287f000-joshua-dataset4\n",
      "data_label                                   dataset4\n",
      "classifier                                     logreg\n",
      "Name: 194, dtype: object\n",
      "model filename:  /data/models/2020-04-03-23311287f000-joshua-dataset4.d2v\n"
     ]
    },
    {
     "name": "stderr",
     "output_type": "stream",
     "text": [
      "/home/jana/anaconda3/envs/ri/lib/python3.9/site-packages/sklearn/base.py:313: UserWarning: Trying to unpickle estimator LogisticRegression from version 0.22.1 when using version 0.22. This might lead to breaking code or invalid results. Use at your own risk.\n",
      "  warnings.warn(\n"
     ]
    },
    {
     "name": "stdout",
     "output_type": "stream",
     "text": [
      "loaded model from  /mnt/medea_data/reconquista_internet/models/2020-04-03-23311287f000-joshua-dataset4.d2v\n",
      "classifier dir /mnt/medea_data/reconquista_internet/classifiers/2020-04-03-23311287f000-joshua-dataset4.logreg\n",
      "accuracy                                  0.75239\n",
      "model_id      2020-01-18-23:03:01-joshua-dataset2\n",
      "data_label                               dataset2\n",
      "classifier                                 logreg\n",
      "Name: 70, dtype: object\n",
      "model filename:  /data/models/2020-01-18-23:03:01-joshua-dataset2.d2v\n"
     ]
    },
    {
     "name": "stderr",
     "output_type": "stream",
     "text": [
      "/home/jana/anaconda3/envs/ri/lib/python3.9/site-packages/sklearn/base.py:313: UserWarning: Trying to unpickle estimator LogisticRegression from version 0.22.1 when using version 0.22. This might lead to breaking code or invalid results. Use at your own risk.\n",
      "  warnings.warn(\n"
     ]
    },
    {
     "name": "stdout",
     "output_type": "stream",
     "text": [
      "loaded model from  /mnt/medea_data/reconquista_internet/models/2020-01-18-23:03:01-joshua-dataset2.d2v\n",
      "classifier dir /mnt/medea_data/reconquista_internet/classifiers/2020-01-18-23:03:01-joshua-dataset2.logreg\n",
      "accuracy                                      0.75213\n",
      "model_id      2020-04-03-1846063fae79-joshua-dataset3\n",
      "data_label                                   dataset3\n",
      "classifier                                     logreg\n",
      "Name: 159, dtype: object\n",
      "model filename:  /data/models/2020-04-03-1846063fae79-joshua-dataset3.d2v\n"
     ]
    },
    {
     "name": "stderr",
     "output_type": "stream",
     "text": [
      "/home/jana/anaconda3/envs/ri/lib/python3.9/site-packages/sklearn/base.py:313: UserWarning: Trying to unpickle estimator LogisticRegression from version 0.19.2 when using version 0.22. This might lead to breaking code or invalid results. Use at your own risk.\n",
      "  warnings.warn(\n"
     ]
    },
    {
     "name": "stdout",
     "output_type": "stream",
     "text": [
      "loaded model from  /mnt/medea_data/reconquista_internet/models/2020-04-03-1846063fae79-joshua-dataset3.d2v\n",
      "classifier dir /mnt/medea_data/reconquista_internet/classifiers/2020-04-03-1846063fae79-joshua-dataset3.logreg\n",
      "accuracy                                      0.75169\n",
      "model_id      2020-04-03-104727c5504b-joshua-dataset1\n",
      "data_label                                   dataset1\n",
      "classifier                                     logreg\n",
      "Name: 122, dtype: object\n",
      "model filename:  /data/models/2020-04-03-104727c5504b-joshua-dataset1.d2v\n"
     ]
    },
    {
     "name": "stderr",
     "output_type": "stream",
     "text": [
      "/home/jana/anaconda3/envs/ri/lib/python3.9/site-packages/sklearn/base.py:313: UserWarning: Trying to unpickle estimator LogisticRegression from version 0.22.1 when using version 0.22. This might lead to breaking code or invalid results. Use at your own risk.\n",
      "  warnings.warn(\n"
     ]
    },
    {
     "name": "stdout",
     "output_type": "stream",
     "text": [
      "loaded model from  /mnt/medea_data/reconquista_internet/models/2020-04-03-104727c5504b-joshua-dataset1.d2v\n",
      "classifier dir /mnt/medea_data/reconquista_internet/classifiers/2020-04-03-104727c5504b-joshua-dataset1.logreg\n",
      "accuracy                                  0.75151\n",
      "model_id      2020-01-17-22:13:53-joshua-dataset1\n",
      "data_label                               dataset1\n",
      "classifier                                 logreg\n",
      "Name: 7, dtype: object\n",
      "model filename:  /data/models/2020-01-17-22:13:53-joshua-dataset1.d2v\n"
     ]
    },
    {
     "name": "stderr",
     "output_type": "stream",
     "text": [
      "/home/jana/anaconda3/envs/ri/lib/python3.9/site-packages/sklearn/base.py:313: UserWarning: Trying to unpickle estimator LogisticRegression from version 0.22.1 when using version 0.22. This might lead to breaking code or invalid results. Use at your own risk.\n",
      "  warnings.warn(\n"
     ]
    },
    {
     "name": "stdout",
     "output_type": "stream",
     "text": [
      "loaded model from  /mnt/medea_data/reconquista_internet/models/2020-01-17-22:13:53-joshua-dataset1.d2v\n",
      "classifier dir /mnt/medea_data/reconquista_internet/classifiers/2020-01-17-22:13:53-joshua-dataset1.logreg\n",
      "accuracy                                  0.75144\n",
      "model_id      2020-01-18-21:43:23-joshua-dataset2\n",
      "data_label                               dataset2\n",
      "classifier                                 logreg\n",
      "Name: 66, dtype: object\n",
      "model filename:  /data/models/2020-01-18-21:43:23-joshua-dataset2.d2v\n"
     ]
    },
    {
     "name": "stderr",
     "output_type": "stream",
     "text": [
      "/home/jana/anaconda3/envs/ri/lib/python3.9/site-packages/sklearn/base.py:313: UserWarning: Trying to unpickle estimator LogisticRegression from version 0.19.2 when using version 0.22. This might lead to breaking code or invalid results. Use at your own risk.\n",
      "  warnings.warn(\n"
     ]
    },
    {
     "name": "stdout",
     "output_type": "stream",
     "text": [
      "loaded model from  /mnt/medea_data/reconquista_internet/models/2020-01-18-21:43:23-joshua-dataset2.d2v\n",
      "classifier dir /mnt/medea_data/reconquista_internet/classifiers/2020-01-18-21:43:23-joshua-dataset2.logreg\n",
      "accuracy                                       0.7513\n",
      "model_id      2020-04-03-104724e7282b-joshua-dataset1\n",
      "data_label                                   dataset1\n",
      "classifier                                     logreg\n",
      "Name: 120, dtype: object\n",
      "model filename:  /data/models/2020-04-03-104724e7282b-joshua-dataset1.d2v\n"
     ]
    },
    {
     "name": "stderr",
     "output_type": "stream",
     "text": [
      "/home/jana/anaconda3/envs/ri/lib/python3.9/site-packages/sklearn/base.py:313: UserWarning: Trying to unpickle estimator LogisticRegression from version 0.19.2 when using version 0.22. This might lead to breaking code or invalid results. Use at your own risk.\n",
      "  warnings.warn(\n"
     ]
    },
    {
     "name": "stdout",
     "output_type": "stream",
     "text": [
      "loaded model from  /mnt/medea_data/reconquista_internet/models/2020-04-03-104724e7282b-joshua-dataset1.d2v\n",
      "classifier dir /mnt/medea_data/reconquista_internet/classifiers/2020-04-03-104724e7282b-joshua-dataset1.logreg\n",
      "accuracy                                      0.75113\n",
      "model_id      2020-04-03-181431141d9f-joshua-dataset3\n",
      "data_label                                   dataset3\n",
      "classifier                                     logreg\n",
      "Name: 155, dtype: object\n",
      "model filename:  /data/models/2020-04-03-181431141d9f-joshua-dataset3.d2v\n"
     ]
    },
    {
     "name": "stderr",
     "output_type": "stream",
     "text": [
      "/home/jana/anaconda3/envs/ri/lib/python3.9/site-packages/sklearn/base.py:313: UserWarning: Trying to unpickle estimator LogisticRegression from version 0.22.1 when using version 0.22. This might lead to breaking code or invalid results. Use at your own risk.\n",
      "  warnings.warn(\n"
     ]
    },
    {
     "name": "stdout",
     "output_type": "stream",
     "text": [
      "loaded model from  /mnt/medea_data/reconquista_internet/models/2020-04-03-181431141d9f-joshua-dataset3.d2v\n",
      "classifier dir /mnt/medea_data/reconquista_internet/classifiers/2020-04-03-181431141d9f-joshua-dataset3.logreg\n",
      "accuracy                                     0.751108\n",
      "model_id      2020-04-03-142944abb17c-joshua-dataset3\n",
      "data_label                                   dataset3\n",
      "classifier                                     logreg\n",
      "Name: 127, dtype: object\n",
      "model filename:  /data/models/2020-04-03-142944abb17c-joshua-dataset3.d2v\n"
     ]
    },
    {
     "name": "stderr",
     "output_type": "stream",
     "text": [
      "/home/jana/anaconda3/envs/ri/lib/python3.9/site-packages/sklearn/base.py:313: UserWarning: Trying to unpickle estimator LogisticRegression from version 0.22.1 when using version 0.22. This might lead to breaking code or invalid results. Use at your own risk.\n",
      "  warnings.warn(\n"
     ]
    },
    {
     "name": "stdout",
     "output_type": "stream",
     "text": [
      "loaded model from  /mnt/medea_data/reconquista_internet/models/2020-04-03-142944abb17c-joshua-dataset3.d2v\n",
      "classifier dir /mnt/medea_data/reconquista_internet/classifiers/2020-04-03-142944abb17c-joshua-dataset3.logreg\n"
     ]
    },
    {
     "name": "stderr",
     "output_type": "stream",
     "text": [
      "/home/jana/anaconda3/envs/ri/lib/python3.9/site-packages/sklearn/base.py:313: UserWarning: Trying to unpickle estimator LogisticRegression from version 0.22.1 when using version 0.22. This might lead to breaking code or invalid results. Use at your own risk.\n",
      "  warnings.warn(\n"
     ]
    }
   ],
   "source": [
    "POE=PanelOfExperts(data_set_label=\"dev\", number_of_initial_experts=20,\n",
    "                   classifier_type=\"logreg\")"
   ]
  },
  {
   "cell_type": "code",
   "execution_count": 4,
   "id": "3e3798b6-13bf-4757-840b-2e1c13d672eb",
   "metadata": {},
   "outputs": [
    {
     "name": "stderr",
     "output_type": "stream",
     "text": [
      "/home/jana/anaconda3/envs/ri/lib/python3.9/site-packages/sklearn/metrics/_classification.py:1268: UndefinedMetricWarning: Recall is ill-defined and being set to 0.0 in labels with no true samples. Use `zero_division` parameter to control this behavior.\n",
      "  _warn_prf(average, modifier, msg_start, len(result))\n"
     ]
    }
   ],
   "source": [
    "report=POE.predict_w_report(filename=\"devE20LogRegPOEReport.csv\")"
   ]
  }
 ],
 "metadata": {
  "kernelspec": {
   "display_name": "Python 3 (ipykernel)",
   "language": "python",
   "name": "python3"
  },
  "language_info": {
   "codemirror_mode": {
    "name": "ipython",
    "version": 3
   },
   "file_extension": ".py",
   "mimetype": "text/x-python",
   "name": "python",
   "nbconvert_exporter": "python",
   "pygments_lexer": "ipython3",
   "version": "3.9.7"
  }
 },
 "nbformat": 4,
 "nbformat_minor": 5
}
